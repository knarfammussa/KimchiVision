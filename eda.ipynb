{
  "cells": [
    {
      "cell_type": "markdown",
      "metadata": {
        "id": "cYLZzIbjk62B"
      },
      "source": [
        "# Waymo Open Dataset Motion Tutorial\n",
        "\n",
        "- Website: https://waymo.com/open\n",
        "- GitHub: https://github.com/waymo-research/waymo-open-dataset\n",
        "\n",
        "This tutorial demonstrates:\n",
        "- How to decode and interpret the data.\n",
        "- How to train a simple model with Tensorflow.\n",
        "\n",
        "Visit the [Waymo Open Dataset Website](https://waymo.com/open) to download the full dataset.\n",
        "\n",
        "To use, open this notebook in [Colab](https://colab.research.google.com).\n",
        "\n",
        "Uncheck the box \"Reset all runtimes before running\" if you run this colab directly from the remote kernel. Alternatively, you can make a copy before trying to run it by following \"File > Save copy in Drive ...\"."
      ]
    },
    {
      "cell_type": "markdown",
      "metadata": {
        "id": "wjT3Rdd4lSqC"
      },
      "source": [
        "# what does the data look like"
      ]
    },
    {
      "cell_type": "code",
      "execution_count": 70,
      "metadata": {},
      "outputs": [
        {
          "name": "stdout",
          "output_type": "stream",
          "text": [
            "The autoreload extension is already loaded. To reload it, use:\n",
            "  %reload_ext autoreload\n"
          ]
        }
      ],
      "source": [
        "%load_ext autoreload\n",
        "%autoreload 2"
      ]
    },
    {
      "cell_type": "code",
      "execution_count": 76,
      "metadata": {},
      "outputs": [],
      "source": [
        "import glob\n",
        "import math\n",
        "import os\n",
        "import uuid\n",
        "import time\n",
        "\n",
        "from matplotlib import cm\n",
        "import matplotlib.animation as animation\n",
        "import matplotlib.pyplot as plt\n",
        "\n",
        "import numpy as np\n",
        "from IPython.display import HTML\n",
        "import itertools\n",
        "import tensorflow as tf\n",
        "\n",
        "from google.protobuf import text_format\n",
        "from waymo_open_dataset.metrics.ops import py_metrics_ops\n",
        "from waymo_open_dataset.metrics.python import config_util_py as config_util\n",
        "from waymo_open_dataset.protos import motion_metrics_pb2\n",
        "from waymo_open_dataset.protos import scenario_pb2\n",
        "\n",
        "files = glob.glob(\"/files/waymo/scenario/training_20s/training*\", recursive=False)\n",
        "\n",
        "dataset = tf.data.TFRecordDataset(files[0], compression_type='') # serialized scenario\n",
        "data = next(dataset.as_numpy_iterator())\n",
        "\n",
        "scenario = scenario_pb2.Scenario.FromString(data)\n",
        "tracks = scenario.tracks\n",
        "map_features = scenario.map_features"
      ]
    }
  ],
  "metadata": {
    "accelerator": "GPU",
    "colab": {
      "gpuType": "T4",
      "private_outputs": true,
      "provenance": []
    },
    "kernelspec": {
      "display_name": "test2",
      "language": "python",
      "name": "python3"
    },
    "language_info": {
      "codemirror_mode": {
        "name": "ipython",
        "version": 3
      },
      "file_extension": ".py",
      "mimetype": "text/x-python",
      "name": "python",
      "nbconvert_exporter": "python",
      "pygments_lexer": "ipython3",
      "version": "3.10.16"
    }
  },
  "nbformat": 4,
  "nbformat_minor": 0
}
