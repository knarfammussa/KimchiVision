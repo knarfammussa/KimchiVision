{
 "cells": [
  {
   "cell_type": "code",
   "execution_count": 1,
   "id": "9b1cbcdd",
   "metadata": {},
   "outputs": [],
   "source": [
    "%load_ext autoreload\n",
    "%autoreload 2"
   ]
  },
  {
   "cell_type": "code",
   "execution_count": 2,
   "id": "06d8b119",
   "metadata": {},
   "outputs": [],
   "source": [
    "#common libs\n",
    "import torch\n",
    "import torch.nn as nn\n",
    "import torch.nn.functional as F\n",
    "import numpy as np\n",
    "from torch.utils.data import DataLoader\n",
    "from torchinfo import summary\n",
    "import math\n",
    "from easydict import EasyDict as edict\n"
   ]
  },
  {
   "cell_type": "code",
   "execution_count": 3,
   "id": "436ffd95",
   "metadata": {},
   "outputs": [],
   "source": [
    "#mtr modules\n",
    "from mtr.datasets import build_dataloader\n",
    "from mtr.config import cfg, cfg_from_yaml_file\n",
    "from mtr.utils import common_utils"
   ]
  },
  {
   "cell_type": "code",
   "execution_count": 4,
   "id": "8bd44e12",
   "metadata": {},
   "outputs": [],
   "source": [
    "cfg_from_yaml_file(\"/code/jjiang23/csc587/KimchiVision/cfg/kimchiConfig.yaml\", cfg)\n",
    "logger = common_utils.create_logger(\"/files/waymo/damon_log.txt\", rank=0)\n",
    "args = edict({\n",
    "    \"batch_size\": 1,\n",
    "    \"workers\": 32,\n",
    "    \"merge_all_iters_to_one_epoch\": False,\n",
    "    \"epochs\": 5,\n",
    "    \"add_worker_init_fn\": False,\n",
    "    \n",
    "})"
   ]
  },
  {
   "cell_type": "code",
   "execution_count": 5,
   "id": "3b3d06e4",
   "metadata": {},
   "outputs": [
    {
     "name": "stderr",
     "output_type": "stream",
     "text": [
      "2025-06-08 08:55:33,032   INFO  Start to load infos from /files/waymo/code/MTR/data/waymo/processed_scenarios_training_infos.pkl\n"
     ]
    },
    {
     "name": "stderr",
     "output_type": "stream",
     "text": [
      "2025-06-08 08:55:39,146   INFO  Total scenes before filters: 243401\n",
      "2025-06-08 08:55:45,576   INFO  Total scenes after filter_info_by_object_type: 243401\n",
      "2025-06-08 08:55:45,585   INFO  Total scenes after filters: 243401\n",
      "2025-06-08 08:55:45,587   INFO  Start to load infos from /files/waymo/code/MTR/data/waymo/processed_scenarios_val_infos.pkl\n",
      "2025-06-08 08:55:47,924   INFO  Total scenes before filters: 22089\n",
      "2025-06-08 08:55:48,514   INFO  Total scenes after filter_info_by_object_type: 22089\n",
      "2025-06-08 08:55:48,544   INFO  Total scenes after filters: 22089\n"
     ]
    }
   ],
   "source": [
    "#prepare data\n",
    "train_set, train_loader, train_sampler = build_dataloader(\n",
    "    dataset_cfg=cfg.DATA_CONFIG,\n",
    "    batch_size=args.batch_size,\n",
    "    dist=False, workers=args.workers,\n",
    "    logger=logger,\n",
    "    training=True,\n",
    "    merge_all_iters_to_one_epoch=args.merge_all_iters_to_one_epoch,\n",
    "    total_epochs=args.epochs,\n",
    "    add_worker_init_fn=args.add_worker_init_fn,\n",
    ")\n",
    "\n",
    "test_set, test_loader, sampler = build_dataloader(\n",
    "        dataset_cfg=cfg.DATA_CONFIG,\n",
    "        batch_size=args.batch_size,\n",
    "        dist=False, workers=args.workers, logger=logger, training=False\n",
    ")"
   ]
  },
  {
   "cell_type": "code",
   "execution_count": null,
   "id": "379ed72b",
   "metadata": {},
   "outputs": [
    {
     "name": "stdout",
     "output_type": "stream",
     "text": [
      "home of the LSTM /home/dlin42/KimchiVision, change when needed\n"
     ]
    }
   ],
   "source": [
    "from lstm.lstm import MotionLSTM\n",
    "device = torch.device('cuda' if torch.cuda.is_available() else 'cpu')\n",
    "model = MotionLSTM().to(device)"
   ]
  },
  {
   "cell_type": "code",
   "execution_count": 7,
   "id": "6514837c",
   "metadata": {},
   "outputs": [
    {
     "name": "stdout",
     "output_type": "stream",
     "text": [
      "home of the LSTM /home/dlin42/KimchiVision, change when needed\n"
     ]
    },
    {
     "name": "stderr",
     "output_type": "stream",
     "text": [
      "Traceback (most recent call last):\n",
      "  File \"/files/waymo/miniconda3/envs/lstm/lib/python3.8/multiprocessing/queues.py\", line 245, in _feed\n",
      "    send_bytes(obj)\n",
      "  File \"/files/waymo/miniconda3/envs/lstm/lib/python3.8/multiprocessing/connection.py\", line 200, in send_bytes\n",
      "    self._send_bytes(m[offset:offset + size])\n",
      "  File \"/files/waymo/miniconda3/envs/lstm/lib/python3.8/multiprocessing/connection.py\", line 411, in _send_bytes\n",
      "    self._send(header + buf)\n",
      "  File \"/files/waymo/miniconda3/envs/lstm/lib/python3.8/multiprocessing/connection.py\", line 368, in _send\n",
      "    n = write(self._handle, buf)\n",
      "BrokenPipeError: [Errno 32] Broken pipe\n"
     ]
    }
   ],
   "source": [
    "batch = next(iter(train_loader))"
   ]
  },
  {
   "cell_type": "code",
   "execution_count": 8,
   "id": "1c94fd79",
   "metadata": {},
   "outputs": [
    {
     "data": {
      "text/plain": [
       "dict_keys(['scenario_id', 'obj_trajs', 'obj_trajs_mask', 'track_index_to_predict', 'obj_trajs_pos', 'obj_trajs_last_pos', 'obj_types', 'obj_ids', 'center_objects_world', 'center_objects_id', 'center_objects_type', 'obj_trajs_future_state', 'obj_trajs_future_mask', 'center_gt_trajs', 'center_gt_trajs_mask', 'center_gt_final_valid_idx', 'center_gt_trajs_src', 'map_polylines', 'map_polylines_mask', 'map_polylines_center', 'static_map_polylines', 'static_map_polylines_mask'])"
      ]
     },
     "execution_count": 8,
     "metadata": {},
     "output_type": "execute_result"
    }
   ],
   "source": [
    "batch[\"input_dict\"].keys()"
   ]
  },
  {
   "cell_type": "code",
   "execution_count": 9,
   "id": "9b72d5eb",
   "metadata": {},
   "outputs": [],
   "source": [
    "input = batch[\"input_dict\"]\n",
    "obj_trajs = input[\"obj_trajs\"]\n",
    "obj_pos = input[\"obj_trajs_pos\"]\n",
    "obj_last_pos = input[\"obj_trajs_last_pos\"]\n",
    "obj_type = input[\"obj_types\"] # car, bicycycle, pedestrian\n",
    "obj_trajs_mask = input['obj_trajs_mask']\n",
    "obj_of_interest = input['track_index_to_predict']"
   ]
  },
  {
   "cell_type": "code",
   "execution_count": 10,
   "id": "c5c0eeb5",
   "metadata": {},
   "outputs": [],
   "source": [
    "num_center_objects, num_objects, num_timestamps, num_attrs = obj_trajs.shape"
   ]
  },
  {
   "cell_type": "code",
   "execution_count": 13,
   "id": "162b4e67",
   "metadata": {},
   "outputs": [],
   "source": [
    "static_map_polylines=input[\"static_map_polylines\"].to('cuda')  # (batch_size, num_polylines, num_points_each_polyline, 7)\n",
    "static_map_polylines_mask=input[\"static_map_polylines_mask\"].to('cuda') # (batch_size, num_polylines, num_points_each_polyline)"
   ]
  },
  {
   "cell_type": "code",
   "execution_count": 42,
   "id": "b660bcf6",
   "metadata": {},
   "outputs": [
    {
     "data": {
      "text/plain": [
       "tensor([11, 11, 11, 11, 11, 11, 11, 11])"
      ]
     },
     "execution_count": 42,
     "metadata": {},
     "output_type": "execute_result"
    }
   ],
   "source": [
    "obj_trajs_mask[:, 1, :].sum(dim=1)"
   ]
  },
  {
   "cell_type": "code",
   "execution_count": 80,
   "id": "d328e50f",
   "metadata": {},
   "outputs": [
    {
     "data": {
      "text/plain": [
       "tensor([10])"
      ]
     },
     "execution_count": 80,
     "metadata": {},
     "output_type": "execute_result"
    }
   ],
   "source": [
    "from einops import rearrange, repeat\n",
    "\n",
    "torch.nonzero(obj_trajs_mask[0, 0, :])[-1]"
   ]
  },
  {
   "cell_type": "code",
   "execution_count": 19,
   "id": "6c107aa0",
   "metadata": {},
   "outputs": [
    {
     "name": "stdout",
     "output_type": "stream",
     "text": [
      "home of the LSTM /home/dlin42/KimchiVision, change when needed\n",
      "Key: scenario_id, Val: (8,)\n",
      "Key: obj_trajs, Val: torch.Size([8, 24, 11, 29])\n",
      "Key: obj_trajs_mask, Val: torch.Size([8, 24, 11])\n",
      "Key: track_index_to_predict, Val: torch.Size([8])\n",
      "Key: obj_trajs_pos, Val: torch.Size([8, 24, 11, 3])\n",
      "Key: obj_trajs_last_pos, Val: torch.Size([8, 24, 3])\n",
      "Key: obj_types, Val: (24,)\n",
      "Key: obj_ids, Val: (24,)\n",
      "Key: center_objects_world, Val: torch.Size([8, 10])\n",
      "Key: center_objects_id, Val: (8,)\n",
      "Key: center_objects_type, Val: (8,)\n",
      "Key: obj_trajs_future_state, Val: torch.Size([8, 24, 80, 4])\n",
      "Key: obj_trajs_future_mask, Val: torch.Size([8, 24, 80])\n",
      "Key: center_gt_trajs, Val: torch.Size([8, 80, 4])\n",
      "Key: center_gt_trajs_mask, Val: torch.Size([8, 80])\n",
      "Key: center_gt_final_valid_idx, Val: torch.Size([8])\n",
      "Key: center_gt_trajs_src, Val: torch.Size([8, 91, 10])\n",
      "Key: map_polylines, Val: torch.Size([8, 768, 20, 9])\n",
      "Key: map_polylines_mask, Val: torch.Size([8, 768, 20])\n",
      "Key: map_polylines_center, Val: torch.Size([8, 768, 3])\n",
      "Key: static_map_polylines, Val: torch.Size([8, 4000, 20, 7])\n",
      "Key: static_map_polylines_mask, Val: torch.Size([8, 4000, 20])\n"
     ]
    }
   ],
   "source": [
    "model._print_batch(batch)"
   ]
  },
  {
   "cell_type": "code",
   "execution_count": 97,
   "id": "accf61af",
   "metadata": {},
   "outputs": [
    {
     "name": "stdout",
     "output_type": "stream",
     "text": [
      "home of the LSTM /home/dlin42/KimchiVision, change when needed\n"
     ]
    }
   ],
   "source": [
    "map_object_features = model(batch)\n"
   ]
  },
  {
   "cell_type": "code",
   "execution_count": 98,
   "id": "2b5c29fe",
   "metadata": {},
   "outputs": [
    {
     "data": {
      "text/plain": [
       "(tensor([[0.1460, 0.1754, 0.1473, 0.1977, 0.1649, 0.1687],\n",
       "         [0.1497, 0.1783, 0.1467, 0.1919, 0.1659, 0.1674],\n",
       "         [0.1492, 0.1807, 0.1424, 0.1930, 0.1639, 0.1708],\n",
       "         [0.1486, 0.1841, 0.1581, 0.1835, 0.1689, 0.1569],\n",
       "         [0.1565, 0.1822, 0.1454, 0.1915, 0.1676, 0.1569],\n",
       "         [0.1504, 0.1811, 0.1408, 0.1962, 0.1664, 0.1651],\n",
       "         [0.1511, 0.1813, 0.1517, 0.1830, 0.1671, 0.1658],\n",
       "         [0.1549, 0.1819, 0.1452, 0.1816, 0.1722, 0.1641]], device='cuda:0',\n",
       "        grad_fn=<SoftmaxBackward0>),\n",
       " tensor([[[[-3.7919e-03, -8.2558e-02,  4.3923e-02, -1.1123e-02],\n",
       "           [-2.5621e-02, -9.0568e-05,  5.1938e-02,  3.4283e-02],\n",
       "           [ 1.3992e-02, -2.1788e-02, -5.3575e-02, -2.5558e-02],\n",
       "           ...,\n",
       "           [-2.6081e-02, -3.9168e-02,  1.8734e-02,  2.5749e-02],\n",
       "           [-3.1466e-03, -8.7790e-02,  4.3929e-02,  2.5645e-03],\n",
       "           [ 7.3851e-03,  1.7852e-02, -8.1599e-03, -2.6107e-02]],\n",
       " \n",
       "          [[ 5.2880e-02, -6.3428e-02,  6.3580e-03,  7.3376e-02],\n",
       "           [ 2.8901e-02,  1.0079e-02,  6.6587e-02, -5.1466e-02],\n",
       "           [-2.1298e-03, -5.6686e-02,  3.8912e-02,  5.5254e-04],\n",
       "           ...,\n",
       "           [-2.2768e-02,  3.3717e-02,  3.9027e-02,  4.5030e-02],\n",
       "           [-9.6868e-02,  3.7807e-03,  2.3923e-02,  3.6757e-02],\n",
       "           [-3.7898e-02, -7.6051e-03, -4.2566e-02, -2.9919e-02]],\n",
       " \n",
       "          [[-4.4979e-03, -3.0031e-02,  3.2490e-03,  8.0753e-03],\n",
       "           [-2.2036e-03, -2.0384e-03,  1.0145e-01, -2.6749e-02],\n",
       "           [-5.1847e-02,  2.1522e-02,  3.0270e-02, -5.0197e-03],\n",
       "           ...,\n",
       "           [-4.8040e-02,  5.2219e-02, -1.8971e-02,  1.5211e-02],\n",
       "           [ 6.4145e-02, -1.1572e-02,  1.1139e-02,  6.1351e-02],\n",
       "           [ 2.7168e-02,  4.3851e-02, -2.3288e-02,  1.7626e-02]],\n",
       " \n",
       "          [[-4.8148e-02, -6.4484e-02, -4.8963e-02,  4.0208e-02],\n",
       "           [-6.3897e-02,  3.5040e-02, -4.7748e-04,  2.9216e-02],\n",
       "           [-8.8086e-02, -5.3268e-02, -7.6852e-03,  4.2343e-02],\n",
       "           ...,\n",
       "           [ 3.4335e-02, -1.6806e-02,  7.7828e-03, -3.6527e-02],\n",
       "           [ 7.8572e-03, -1.0707e-02, -7.2494e-03, -3.3820e-02],\n",
       "           [-1.1475e-02,  3.9234e-02,  7.1759e-02,  5.3572e-02]],\n",
       " \n",
       "          [[ 3.5994e-03, -3.5373e-02, -3.4418e-02, -1.2680e-02],\n",
       "           [-3.4216e-04,  1.2842e-02,  1.1359e-02, -1.6325e-02],\n",
       "           [-2.0274e-02, -4.8350e-02, -3.3705e-02, -5.4815e-03],\n",
       "           ...,\n",
       "           [ 9.5767e-03, -3.9618e-02, -4.6702e-02, -1.0644e-03],\n",
       "           [ 1.4126e-02, -1.8057e-02, -2.0382e-03,  9.4041e-03],\n",
       "           [ 4.1948e-02,  6.3160e-02,  4.5291e-02, -3.2882e-02]],\n",
       " \n",
       "          [[-5.4523e-02, -7.8205e-02, -7.1207e-02, -2.0255e-02],\n",
       "           [-4.3702e-02,  6.5574e-03, -2.9241e-02, -2.4975e-02],\n",
       "           [ 3.8210e-03,  3.8346e-02, -5.2363e-02,  3.7075e-02],\n",
       "           ...,\n",
       "           [ 1.2407e-02,  2.6750e-02,  1.1892e-01, -7.5321e-03],\n",
       "           [-8.3308e-02,  7.5311e-02,  8.5139e-03,  8.6206e-02],\n",
       "           [-1.6204e-02,  8.7494e-02,  2.0412e-02,  6.4914e-03]]],\n",
       " \n",
       " \n",
       "         [[[ 2.2948e-02, -7.7307e-02,  6.1589e-02,  3.6264e-03],\n",
       "           [-2.9919e-02,  1.6071e-02,  3.6833e-02,  1.5653e-02],\n",
       "           [ 7.8281e-03, -2.2913e-02, -4.2863e-02, -7.6120e-03],\n",
       "           ...,\n",
       "           [-3.1301e-02, -4.4214e-02,  2.5395e-02,  4.2367e-02],\n",
       "           [-1.2503e-02, -6.2275e-02,  2.2517e-02,  3.5231e-03],\n",
       "           [-5.8776e-03,  3.1167e-02,  2.8197e-03, -1.0792e-02]],\n",
       " \n",
       "          [[ 3.0850e-02, -6.8400e-02, -3.2347e-02,  7.0396e-02],\n",
       "           [ 3.2200e-03, -1.3320e-02,  3.9553e-02, -6.9354e-02],\n",
       "           [ 5.8220e-03, -5.5983e-02,  6.4701e-02, -5.1409e-03],\n",
       "           ...,\n",
       "           [-4.9349e-02,  1.5116e-03,  1.7925e-02,  4.5099e-02],\n",
       "           [-5.9936e-02, -5.4191e-02,  2.6407e-02,  4.9345e-02],\n",
       "           [-1.6486e-02, -9.6180e-03, -5.7472e-02, -2.5434e-02]],\n",
       " \n",
       "          [[-2.0544e-02, -1.4858e-02,  6.4365e-03,  1.1906e-02],\n",
       "           [-1.8635e-02,  6.6590e-03,  9.7412e-02, -3.9851e-02],\n",
       "           [-6.7643e-02,  2.0862e-02,  2.6180e-02, -1.4538e-02],\n",
       "           ...,\n",
       "           [-4.7733e-02,  4.2177e-02, -2.4712e-02,  2.8074e-02],\n",
       "           [ 4.1100e-02, -1.3402e-02,  5.4706e-03,  4.0476e-02],\n",
       "           [ 3.0297e-02,  5.3428e-02, -2.6198e-02,  2.0295e-02]],\n",
       " \n",
       "          [[-2.5928e-02, -5.5973e-02, -4.1375e-02,  2.1209e-02],\n",
       "           [-3.4278e-02,  3.9036e-02,  4.2242e-03,  4.5136e-02],\n",
       "           [-7.1014e-02, -3.9463e-02, -2.3710e-02,  4.2759e-02],\n",
       "           ...,\n",
       "           [ 1.4926e-02, -1.9025e-02,  3.0420e-03, -3.5471e-02],\n",
       "           [-3.5090e-03, -1.2300e-02,  7.3181e-03, -3.4549e-02],\n",
       "           [-1.9742e-02,  2.5375e-02,  6.5870e-02,  4.4059e-02]],\n",
       " \n",
       "          [[-7.9581e-03,  6.4554e-04, -4.4283e-02, -2.1392e-02],\n",
       "           [ 1.8280e-02,  1.5481e-02, -1.0563e-02, -7.5128e-03],\n",
       "           [-2.0931e-02, -7.4483e-02, -7.4398e-03, -1.6994e-02],\n",
       "           ...,\n",
       "           [-1.2350e-02, -2.9421e-02, -1.5453e-02,  9.2770e-05],\n",
       "           [ 5.2545e-03, -5.7337e-04, -8.5472e-03,  1.8029e-02],\n",
       "           [ 1.5913e-02,  5.1071e-02,  5.7172e-02, -2.8026e-02]],\n",
       " \n",
       "          [[-2.3883e-02, -5.9704e-02, -6.7296e-02, -3.4313e-02],\n",
       "           [-2.4223e-02, -6.9980e-03, -6.2848e-02,  5.6975e-03],\n",
       "           [-1.2074e-02,  2.2989e-02, -4.5920e-02,  1.9253e-02],\n",
       "           ...,\n",
       "           [ 4.3589e-03,  2.4824e-02,  8.4208e-02, -7.9431e-03],\n",
       "           [-6.0293e-02,  8.8369e-02,  8.7669e-03,  8.8436e-02],\n",
       "           [ 9.2556e-03,  4.9873e-02, -2.1448e-03,  1.4361e-02]]],\n",
       " \n",
       " \n",
       "         [[[ 1.2225e-02, -1.1976e-01,  5.7565e-02, -9.2007e-03],\n",
       "           [-2.0407e-02, -1.1600e-02,  5.9527e-02,  8.1682e-03],\n",
       "           [ 2.8625e-02, -8.0759e-03, -2.5085e-02,  3.7830e-03],\n",
       "           ...,\n",
       "           [-3.2523e-02, -2.6556e-02,  3.4260e-02,  4.2634e-02],\n",
       "           [-2.5687e-02, -6.5149e-02,  4.0635e-02,  2.3832e-02],\n",
       "           [ 6.9354e-03,  5.9704e-02, -2.3853e-02,  2.0094e-03]],\n",
       " \n",
       "          [[ 3.9426e-02, -5.3468e-02, -8.2132e-03,  6.1288e-02],\n",
       "           [ 2.1167e-02,  1.9020e-03,  7.7503e-02, -4.3950e-02],\n",
       "           [ 2.4005e-03, -6.0028e-02,  5.9447e-02, -2.0183e-02],\n",
       "           ...,\n",
       "           [-2.1570e-02,  3.0237e-02,  4.8695e-02,  2.6123e-02],\n",
       "           [-8.0215e-02, -2.5168e-02,  3.9573e-02,  3.7261e-02],\n",
       "           [-2.6708e-02, -1.3277e-02, -5.5451e-02, -1.5054e-02]],\n",
       " \n",
       "          [[-1.3872e-02, -4.7287e-02,  2.1022e-02, -7.2502e-05],\n",
       "           [-1.1577e-02,  1.0876e-02,  7.7316e-02,  1.3182e-03],\n",
       "           [-3.9671e-02,  3.0747e-02,  4.3947e-02,  8.7536e-03],\n",
       "           ...,\n",
       "           [-6.5569e-02,  3.1532e-02, -4.0710e-02,  4.6591e-02],\n",
       "           [ 4.9877e-02, -2.1695e-02,  3.3503e-03,  7.1356e-02],\n",
       "           [ 2.9986e-02,  2.5957e-02, -2.1116e-02,  4.7379e-02]],\n",
       " \n",
       "          [[-4.0456e-02, -5.0016e-02, -4.4851e-02,  3.4139e-02],\n",
       "           [-5.2322e-02,  2.6777e-02, -1.1473e-02,  4.6048e-02],\n",
       "           [-7.6579e-02, -5.4061e-02, -4.9622e-03,  4.0960e-02],\n",
       "           ...,\n",
       "           [ 4.0967e-02, -1.1372e-02,  1.6040e-02, -3.2677e-02],\n",
       "           [ 2.0959e-02, -6.0021e-03,  2.0038e-02, -4.2622e-02],\n",
       "           [-4.1649e-02,  3.7762e-02,  3.1835e-02,  3.6877e-02]],\n",
       " \n",
       "          [[-1.3416e-02,  4.5549e-03, -4.1926e-02, -1.3535e-02],\n",
       "           [ 2.3544e-02,  5.0633e-03,  2.9373e-03,  3.2012e-03],\n",
       "           [-2.9105e-02, -6.0668e-02,  2.4698e-03, -2.4552e-02],\n",
       "           ...,\n",
       "           [-1.2277e-02, -2.1574e-02, -2.7771e-02,  1.3467e-02],\n",
       "           [-9.2121e-03, -1.5199e-02, -4.8491e-03,  2.9611e-02],\n",
       "           [ 1.3164e-02,  3.9206e-02,  5.3353e-02,  9.3517e-03]],\n",
       " \n",
       "          [[-2.7719e-02, -6.4865e-02, -9.0176e-02, -3.1292e-02],\n",
       "           [-4.8364e-03,  1.5631e-03, -5.3468e-02, -6.3303e-03],\n",
       "           [-1.3423e-02,  2.0316e-02, -3.0746e-02,  3.4912e-02],\n",
       "           ...,\n",
       "           [ 3.1867e-02,  3.4613e-02,  1.0387e-01,  2.3978e-02],\n",
       "           [-6.7524e-02,  6.1246e-02, -2.6009e-03,  1.0429e-01],\n",
       "           [-1.3962e-02,  7.4386e-02,  5.0959e-03, -2.6883e-03]]],\n",
       " \n",
       " \n",
       "         ...,\n",
       " \n",
       " \n",
       "         [[[ 2.1270e-02, -8.2113e-02,  3.6344e-02,  1.6302e-02],\n",
       "           [-5.7005e-03, -1.1629e-02,  2.3529e-02,  1.1616e-02],\n",
       "           [ 4.1109e-03,  1.5550e-02, -2.6774e-02, -1.8953e-02],\n",
       "           ...,\n",
       "           [-3.7283e-02, -3.1238e-02,  2.8391e-02,  3.5642e-02],\n",
       "           [ 4.0856e-03, -5.5422e-02,  5.4451e-02,  1.5423e-03],\n",
       "           [-9.2076e-03,  3.9155e-02, -2.4659e-02, -5.0395e-03]],\n",
       " \n",
       "          [[ 5.2216e-02, -6.1864e-02, -6.7027e-03,  6.3551e-02],\n",
       "           [ 2.8878e-02,  3.2455e-03,  6.3284e-02, -4.5841e-02],\n",
       "           [ 1.7106e-02, -5.4126e-02,  6.8036e-02, -1.4562e-02],\n",
       "           ...,\n",
       "           [-4.0435e-02,  1.2672e-02,  2.3928e-02,  2.7639e-02],\n",
       "           [-7.3017e-02, -2.0724e-02,  4.2391e-02,  3.7668e-02],\n",
       "           [-3.9679e-02, -2.2309e-02, -5.1362e-02, -1.3910e-02]],\n",
       " \n",
       "          [[-2.8083e-02, -2.2661e-02,  1.0819e-02,  3.3426e-02],\n",
       "           [-6.6987e-03,  3.2709e-03,  9.0484e-02, -3.8550e-04],\n",
       "           [-4.5483e-02,  4.1127e-02,  5.1387e-02, -6.6608e-03],\n",
       "           ...,\n",
       "           [-5.2980e-02,  5.7554e-02, -2.4414e-02,  4.8753e-02],\n",
       "           [ 3.7246e-02,  2.6482e-03,  1.5636e-02,  4.8264e-02],\n",
       "           [ 3.0040e-02,  5.5762e-02, -3.1310e-02,  3.4328e-02]],\n",
       " \n",
       "          [[-2.6034e-02, -4.9316e-02, -5.1487e-02,  2.7007e-02],\n",
       "           [-6.2351e-02,  4.6491e-02, -3.4774e-02,  4.9668e-02],\n",
       "           [-6.9621e-02, -5.0630e-02, -1.7509e-02,  3.3499e-02],\n",
       "           ...,\n",
       "           [ 2.4623e-03, -2.3985e-02, -5.6125e-03, -1.6541e-02],\n",
       "           [ 9.5312e-03, -1.9707e-02, -5.0655e-02, -4.4109e-02],\n",
       "           [-2.5177e-02,  8.1851e-03,  1.8012e-02,  3.0234e-02]],\n",
       " \n",
       "          [[-2.6276e-03, -1.5913e-02, -1.7135e-03, -1.7668e-02],\n",
       "           [ 1.9650e-02, -2.0735e-02,  1.7159e-02, -8.9236e-03],\n",
       "           [-3.7198e-02, -5.2831e-02, -2.2688e-02,  3.8035e-03],\n",
       "           ...,\n",
       "           [ 8.2530e-03, -1.3740e-02, -3.3376e-02,  4.0403e-03],\n",
       "           [-8.4991e-03, -5.0877e-03,  1.3361e-02,  3.3576e-02],\n",
       "           [ 4.8296e-02,  8.8905e-02,  6.5467e-02, -1.0765e-02]],\n",
       " \n",
       "          [[-4.5528e-02, -7.4360e-02, -9.7011e-02, -2.6466e-03],\n",
       "           [-2.8637e-02,  5.4286e-03, -3.7934e-02, -9.5566e-03],\n",
       "           [-9.7146e-03,  2.8887e-02, -2.9122e-02,  3.4855e-02],\n",
       "           ...,\n",
       "           [ 1.3046e-02,  1.6361e-02,  1.0554e-01, -7.3839e-03],\n",
       "           [-6.7664e-02,  8.3584e-02,  6.1071e-03,  8.3266e-02],\n",
       "           [-1.9454e-03,  8.1127e-02,  1.7736e-02,  2.1864e-02]]],\n",
       " \n",
       " \n",
       "         [[[ 1.2159e-02, -9.6280e-02,  3.7330e-02, -2.7490e-03],\n",
       "           [-2.8024e-02, -8.0042e-03,  5.6163e-02, -1.3000e-03],\n",
       "           [ 6.9611e-03, -6.0966e-03, -1.1986e-02, -7.2417e-03],\n",
       "           ...,\n",
       "           [-3.2205e-02, -5.4744e-02,  1.2418e-02,  2.6667e-02],\n",
       "           [-3.6652e-02, -7.1345e-02,  1.6809e-02,  1.2483e-02],\n",
       "           [ 1.9108e-03,  6.1392e-02, -6.0548e-04, -1.3288e-02]],\n",
       " \n",
       "          [[ 2.3162e-02, -8.1281e-02,  2.2098e-02,  7.0097e-02],\n",
       "           [ 2.4424e-02,  2.6546e-02,  4.6120e-02, -3.7401e-02],\n",
       "           [-2.2236e-02, -2.9020e-02,  2.7132e-02, -8.8471e-03],\n",
       "           ...,\n",
       "           [-2.9568e-02,  1.1452e-02,  1.9148e-02,  1.3314e-02],\n",
       "           [-4.9489e-02, -2.2334e-02,  2.6887e-02,  3.7929e-02],\n",
       "           [-2.6937e-02,  6.7133e-03, -2.9167e-02, -1.1925e-02]],\n",
       " \n",
       "          [[-1.6899e-02, -3.3662e-02,  2.5293e-02,  2.4569e-03],\n",
       "           [ 2.0500e-02,  1.8334e-02,  1.1555e-01,  1.3103e-02],\n",
       "           [-6.1640e-02,  2.1892e-02,  3.0794e-02, -1.8706e-02],\n",
       "           ...,\n",
       "           [-5.8863e-02,  3.3410e-02, -4.2406e-02,  5.9221e-02],\n",
       "           [ 2.8897e-02,  1.0973e-02, -5.8463e-04,  4.7384e-02],\n",
       "           [ 4.2885e-02,  6.6945e-02, -3.4441e-03,  1.0699e-03]],\n",
       " \n",
       "          [[-3.6175e-02, -5.4173e-02, -6.7060e-02,  2.9532e-02],\n",
       "           [-3.3302e-02,  2.2390e-02, -2.9385e-03,  4.1862e-02],\n",
       "           [-7.2971e-02, -5.9336e-02, -4.3909e-03,  2.9298e-02],\n",
       "           ...,\n",
       "           [ 2.5961e-02, -1.0456e-02,  1.2746e-02, -3.5855e-02],\n",
       "           [ 5.8277e-03, -1.9418e-02, -2.0188e-02, -5.1282e-02],\n",
       "           [-1.9947e-02,  4.9003e-02,  2.6692e-02,  4.4643e-02]],\n",
       " \n",
       "          [[-7.6527e-03,  8.9105e-03, -2.0320e-02, -4.0694e-02],\n",
       "           [ 3.3093e-02, -1.5524e-02,  9.6777e-03, -5.7258e-03],\n",
       "           [ 1.2053e-03, -3.1894e-02, -2.3553e-02, -7.1714e-03],\n",
       "           ...,\n",
       "           [-1.1411e-02, -2.4488e-02,  7.2629e-03, -8.1611e-03],\n",
       "           [-1.3210e-02, -2.3581e-02, -9.2416e-03,  4.9318e-02],\n",
       "           [ 2.9894e-02,  5.0201e-02,  6.1383e-02, -3.1676e-02]],\n",
       " \n",
       "          [[-3.8562e-02, -5.7620e-02, -6.7593e-02, -1.9123e-02],\n",
       "           [-2.6334e-02,  6.1052e-03, -5.1690e-02, -3.5249e-03],\n",
       "           [-3.3120e-03,  2.4441e-02, -4.5652e-02,  1.5670e-02],\n",
       "           ...,\n",
       "           [ 1.9989e-02,  3.1592e-03,  8.0978e-02, -8.0020e-03],\n",
       "           [-5.9171e-02,  6.2752e-02, -1.0180e-02,  9.1124e-02],\n",
       "           [-2.4369e-02,  7.0807e-02,  5.3335e-03,  2.1047e-02]]],\n",
       " \n",
       " \n",
       "         [[[ 4.5713e-03, -1.0598e-01,  6.9197e-02,  2.0106e-02],\n",
       "           [-3.6597e-02,  1.2950e-02,  5.4520e-02,  2.1752e-02],\n",
       "           [ 1.0328e-02, -1.0769e-02, -6.2062e-02, -2.5508e-02],\n",
       "           ...,\n",
       "           [-3.8700e-02, -3.7629e-02,  3.7850e-03,  2.7256e-02],\n",
       "           [-2.1650e-02, -6.9219e-02,  4.1251e-02,  1.6387e-02],\n",
       "           [ 5.4924e-03,  2.2312e-02, -1.6359e-02, -1.1879e-02]],\n",
       " \n",
       "          [[ 4.1348e-02, -6.7979e-02,  2.0352e-02,  7.5845e-02],\n",
       "           [ 2.9284e-02,  1.3163e-02,  6.1101e-02, -6.2405e-02],\n",
       "           [-5.1233e-03, -5.9810e-02,  5.1719e-02, -2.3019e-02],\n",
       "           ...,\n",
       "           [-1.2145e-02,  2.2978e-02,  3.9616e-02,  3.9346e-02],\n",
       "           [-7.2572e-02, -2.6330e-03,  3.4874e-02,  4.2123e-02],\n",
       "           [-3.0987e-02, -4.5815e-03, -3.5313e-02, -1.8358e-02]],\n",
       " \n",
       "          [[-1.3006e-02, -2.8563e-02, -6.8957e-03,  4.5800e-03],\n",
       "           [ 1.6530e-03,  1.0219e-02,  9.3005e-02, -3.6863e-02],\n",
       "           [-4.4418e-02,  4.3923e-02,  3.5304e-02, -3.3344e-03],\n",
       "           ...,\n",
       "           [-4.2313e-02,  2.4392e-02, -3.9039e-02, -2.9338e-03],\n",
       "           [ 4.1539e-02, -1.4418e-02,  1.3367e-02,  6.4482e-02],\n",
       "           [ 2.6329e-03,  4.1565e-02, -1.0175e-02,  2.1650e-02]],\n",
       " \n",
       "          [[-1.4766e-02, -6.2812e-02, -3.7325e-02,  4.7778e-02],\n",
       "           [-4.7960e-02,  1.5622e-02, -1.5858e-02,  2.2483e-02],\n",
       "           [-7.8858e-02, -3.8015e-02, -4.0360e-03,  3.3655e-02],\n",
       "           ...,\n",
       "           [ 5.3515e-02, -1.2725e-02,  3.4491e-03, -4.2842e-02],\n",
       "           [ 2.6363e-02,  3.0738e-03,  2.0539e-02, -3.9707e-02],\n",
       "           [-9.3145e-03,  1.6859e-02,  5.0381e-02,  6.3366e-02]],\n",
       " \n",
       "          [[ 6.9081e-03, -9.3198e-03, -4.2166e-02,  1.3994e-02],\n",
       "           [ 5.3674e-03, -8.9747e-03,  2.7069e-03, -2.5307e-02],\n",
       "           [-2.5624e-02, -5.9052e-02, -1.9234e-02, -2.6558e-02],\n",
       "           ...,\n",
       "           [-3.9547e-04, -2.0910e-03, -5.3704e-02,  2.8093e-03],\n",
       "           [-1.8915e-02,  3.4945e-03, -3.9777e-03,  1.7263e-02],\n",
       "           [ 3.1719e-02,  4.7142e-02,  4.9701e-02, -2.0859e-02]],\n",
       " \n",
       "          [[-8.7611e-03, -6.7763e-02, -5.1459e-02, -4.3776e-02],\n",
       "           [-2.4452e-02, -1.3767e-03, -4.5721e-02, -1.1545e-03],\n",
       "           [-2.7844e-02,  2.8769e-02, -4.0044e-02,  1.7078e-02],\n",
       "           ...,\n",
       "           [ 6.3555e-03,  1.5011e-02,  7.2167e-02,  4.6628e-04],\n",
       "           [-5.2094e-02,  6.1201e-02,  8.5182e-03,  7.1594e-02],\n",
       "           [-2.9090e-02,  4.9154e-02,  5.5185e-03,  9.7716e-03]]]],\n",
       "        device='cuda:0', grad_fn=<StackBackward0>))"
      ]
     },
     "execution_count": 98,
     "metadata": {},
     "output_type": "execute_result"
    }
   ],
   "source": [
    "map_object_features"
   ]
  },
  {
   "cell_type": "code",
   "execution_count": 93,
   "id": "093d2761",
   "metadata": {},
   "outputs": [
    {
     "data": {
      "text/plain": [
       "tensor([[[True, True, True,  ..., True, True, True],\n",
       "         [True, True, True,  ..., True, True, True],\n",
       "         [True, True, True,  ..., True, True, True],\n",
       "         ...,\n",
       "         [True, True, True,  ..., True, True, True],\n",
       "         [True, True, True,  ..., True, True, True],\n",
       "         [True, True, True,  ..., True, True, True]],\n",
       "\n",
       "        [[True, True, True,  ..., True, True, True],\n",
       "         [True, True, True,  ..., True, True, True],\n",
       "         [True, True, True,  ..., True, True, True],\n",
       "         ...,\n",
       "         [True, True, True,  ..., True, True, True],\n",
       "         [True, True, True,  ..., True, True, True],\n",
       "         [True, True, True,  ..., True, True, True]],\n",
       "\n",
       "        [[True, True, True,  ..., True, True, True],\n",
       "         [True, True, True,  ..., True, True, True],\n",
       "         [True, True, True,  ..., True, True, True],\n",
       "         ...,\n",
       "         [True, True, True,  ..., True, True, True],\n",
       "         [True, True, True,  ..., True, True, True],\n",
       "         [True, True, True,  ..., True, True, True]],\n",
       "\n",
       "        ...,\n",
       "\n",
       "        [[True, True, True,  ..., True, True, True],\n",
       "         [True, True, True,  ..., True, True, True],\n",
       "         [True, True, True,  ..., True, True, True],\n",
       "         ...,\n",
       "         [True, True, True,  ..., True, True, True],\n",
       "         [True, True, True,  ..., True, True, True],\n",
       "         [True, True, True,  ..., True, True, True]],\n",
       "\n",
       "        [[True, True, True,  ..., True, True, True],\n",
       "         [True, True, True,  ..., True, True, True],\n",
       "         [True, True, True,  ..., True, True, True],\n",
       "         ...,\n",
       "         [True, True, True,  ..., True, True, True],\n",
       "         [True, True, True,  ..., True, True, True],\n",
       "         [True, True, True,  ..., True, True, True]],\n",
       "\n",
       "        [[True, True, True,  ..., True, True, True],\n",
       "         [True, True, True,  ..., True, True, True],\n",
       "         [True, True, True,  ..., True, True, True],\n",
       "         ...,\n",
       "         [True, True, True,  ..., True, True, True],\n",
       "         [True, True, True,  ..., True, True, True],\n",
       "         [True, True, True,  ..., True, True, True]]])"
      ]
     },
     "execution_count": 93,
     "metadata": {},
     "output_type": "execute_result"
    }
   ],
   "source": [
    "obj_trajs_mask"
   ]
  },
  {
   "cell_type": "code",
   "execution_count": 89,
   "id": "369df569",
   "metadata": {},
   "outputs": [
    {
     "data": {
      "text/plain": [
       "torch.Size([8, 24])"
      ]
     },
     "execution_count": 89,
     "metadata": {},
     "output_type": "execute_result"
    }
   ],
   "source": [
    "obj_trajs_mask.sum(dim=2).shape"
   ]
  }
 ],
 "metadata": {
  "kernelspec": {
   "display_name": "lstm",
   "language": "python",
   "name": "python3"
  },
  "language_info": {
   "codemirror_mode": {
    "name": "ipython",
    "version": 3
   },
   "file_extension": ".py",
   "mimetype": "text/x-python",
   "name": "python",
   "nbconvert_exporter": "python",
   "pygments_lexer": "ipython3",
   "version": "3.8.20"
  }
 },
 "nbformat": 4,
 "nbformat_minor": 5
}
