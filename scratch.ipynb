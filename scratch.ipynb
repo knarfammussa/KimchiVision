{
 "cells": [
  {
   "cell_type": "code",
   "execution_count": 1,
   "id": "9b1cbcdd",
   "metadata": {},
   "outputs": [],
   "source": [
    "%load_ext autoreload\n",
    "%autoreload 2"
   ]
  },
  {
   "cell_type": "code",
   "execution_count": 2,
   "id": "06d8b119",
   "metadata": {},
   "outputs": [],
   "source": [
    "#common libs\n",
    "import torch\n",
    "import torch.nn as nn\n",
    "import torch.nn.functional as F\n",
    "import numpy as np\n",
    "from torch.utils.data import DataLoader\n",
    "from torchinfo import summary\n",
    "import math\n",
    "from easydict import EasyDict as edict\n"
   ]
  },
  {
   "cell_type": "code",
   "execution_count": 3,
   "id": "436ffd95",
   "metadata": {},
   "outputs": [],
   "source": [
    "#mtr modules\n",
    "from mtr.datasets import build_dataloader\n",
    "from mtr.config import cfg, cfg_from_yaml_file\n",
    "from mtr.utils import common_utils"
   ]
  },
  {
   "cell_type": "code",
   "execution_count": 4,
   "id": "8bd44e12",
   "metadata": {},
   "outputs": [],
   "source": [
    "cfg_from_yaml_file(\"/code/jjiang23/csc587/KimchiVision/cfg/kimchiConfig.yaml\", cfg)\n",
    "logger = common_utils.create_logger(\"/files/waymo/damon_log.txt\", rank=0)\n",
    "args = edict({\n",
    "    \"batch_size\": 1,\n",
    "    \"workers\": 32,\n",
    "    \"merge_all_iters_to_one_epoch\": False,\n",
    "    \"epochs\": 5,\n",
    "    \"add_worker_init_fn\": False,\n",
    "    \n",
    "})"
   ]
  },
  {
   "cell_type": "code",
   "execution_count": 5,
   "id": "3b3d06e4",
   "metadata": {},
   "outputs": [
    {
     "name": "stderr",
     "output_type": "stream",
     "text": [
      "2025-06-07 10:37:53,623   INFO  Start to load infos from /files/waymo/code/MTR/data/waymo/processed_scenarios_training_infos.pkl\n"
     ]
    },
    {
     "name": "stderr",
     "output_type": "stream",
     "text": [
      "2025-06-07 10:37:57,769   INFO  Total scenes before filters: 243401\n",
      "2025-06-07 10:38:03,662   INFO  Total scenes after filter_info_by_object_type: 243401\n",
      "2025-06-07 10:38:03,677   INFO  Total scenes after filters: 243401\n",
      "2025-06-07 10:38:03,680   INFO  Start to load infos from /files/waymo/code/MTR/data/waymo/processed_scenarios_val_infos.pkl\n",
      "2025-06-07 10:38:06,189   INFO  Total scenes before filters: 22089\n",
      "2025-06-07 10:38:06,725   INFO  Total scenes after filter_info_by_object_type: 22089\n",
      "2025-06-07 10:38:06,770   INFO  Total scenes after filters: 22089\n"
     ]
    }
   ],
   "source": [
    "#prepare data\n",
    "train_set, train_loader, train_sampler = build_dataloader(\n",
    "    dataset_cfg=cfg.DATA_CONFIG,\n",
    "    batch_size=args.batch_size,\n",
    "    dist=False, workers=args.workers,\n",
    "    logger=logger,\n",
    "    training=True,\n",
    "    merge_all_iters_to_one_epoch=args.merge_all_iters_to_one_epoch,\n",
    "    total_epochs=args.epochs,\n",
    "    add_worker_init_fn=args.add_worker_init_fn,\n",
    ")\n",
    "\n",
    "test_set, test_loader, sampler = build_dataloader(\n",
    "        dataset_cfg=cfg.DATA_CONFIG,\n",
    "        batch_size=args.batch_size,\n",
    "        dist=False, workers=args.workers, logger=logger, training=False\n",
    ")"
   ]
  },
  {
   "cell_type": "code",
   "execution_count": null,
   "id": "379ed72b",
   "metadata": {},
   "outputs": [],
   "source": [
    "from lstm.simple_lstm import MotionLSTM\n",
    "device = torch.device('cuda' if torch.cuda.is_available() else 'cpu')\n",
    "model = MotionLSTM().to(device)"
   ]
  },
  {
   "cell_type": "code",
   "execution_count": 131,
   "id": "6514837c",
   "metadata": {},
   "outputs": [],
   "source": [
    "batch = next(iter(train_loader))"
   ]
  },
  {
   "cell_type": "code",
   "execution_count": 79,
   "id": "1c94fd79",
   "metadata": {},
   "outputs": [
    {
     "data": {
      "text/plain": [
       "dict_keys(['scenario_id', 'obj_trajs', 'obj_trajs_mask', 'track_index_to_predict', 'obj_trajs_pos', 'obj_trajs_last_pos', 'obj_types', 'obj_ids', 'center_objects_world', 'center_objects_id', 'center_objects_type', 'obj_trajs_future_state', 'obj_trajs_future_mask', 'center_gt_trajs', 'center_gt_trajs_mask', 'center_gt_final_valid_idx', 'center_gt_trajs_src', 'map_polylines', 'map_polylines_mask', 'map_polylines_center', 'static_map_polylines', 'static_map_polylines_mask'])"
      ]
     },
     "execution_count": 79,
     "metadata": {},
     "output_type": "execute_result"
    }
   ],
   "source": [
    "batch[\"input_dict\"].keys()"
   ]
  },
  {
   "cell_type": "code",
   "execution_count": 80,
   "id": "d13a0e62",
   "metadata": {},
   "outputs": [
    {
     "data": {
      "text/plain": [
       "tensor([17, 30, 26,  6, 16])"
      ]
     },
     "execution_count": 80,
     "metadata": {},
     "output_type": "execute_result"
    }
   ],
   "source": [
    "batch[\"input_dict\"][\"track_index_to_predict\"]"
   ]
  },
  {
   "cell_type": "code",
   "execution_count": 81,
   "id": "a1aea766",
   "metadata": {},
   "outputs": [
    {
     "data": {
      "text/plain": [
       "array([ 50, 326,  95,  33,  49])"
      ]
     },
     "execution_count": 81,
     "metadata": {},
     "output_type": "execute_result"
    }
   ],
   "source": [
    "batch[\"input_dict\"][\"center_objects_id\"]"
   ]
  },
  {
   "cell_type": "code",
   "execution_count": 82,
   "id": "2339a919",
   "metadata": {},
   "outputs": [
    {
     "data": {
      "text/plain": [
       "array([ 25,  26,  27,  28,  31,  32,  33,  34,  35,  37,  39,  40,  41,\n",
       "        42,  44,  47,  49,  50,  51,  53,  54,  56,  58, 325,  90,  94,\n",
       "        95, 102, 103, 104, 326])"
      ]
     },
     "execution_count": 82,
     "metadata": {},
     "output_type": "execute_result"
    }
   ],
   "source": [
    "batch[\"input_dict\"][\"obj_ids\"]"
   ]
  },
  {
   "cell_type": "code",
   "execution_count": 123,
   "id": "9b72d5eb",
   "metadata": {},
   "outputs": [],
   "source": [
    "input = batch[\"input_dict\"]\n",
    "obj_trajs = input[\"obj_trajs\"]\n",
    "obj_pos = input[\"obj_trajs_pos\"]\n",
    "obj_last_pos = input[\"obj_trajs_last_pos\"]\n",
    "obj_type = input[\"obj_types\"] # car, bicycycle, pedestrian\n",
    "obj_trajs_mask = input['obj_trajs_mask']\n",
    "obj_of_interest = input['track_index_to_predict']"
   ]
  },
  {
   "cell_type": "code",
   "execution_count": 164,
   "id": "c5c0eeb5",
   "metadata": {},
   "outputs": [],
   "source": [
    "num_center_objects, num_objects, num_timestamps, num_attrs = obj_trajs.shape"
   ]
  },
  {
   "cell_type": "code",
   "execution_count": 153,
   "id": "6c107aa0",
   "metadata": {},
   "outputs": [
    {
     "name": "stdout",
     "output_type": "stream",
     "text": [
      "THIS IS THE PATH OF THE LSTM, change when needed\n",
      "Key: scenario_id, Val: (5,)\n",
      "Key: obj_trajs, Val: torch.Size([5, 55, 11, 29])\n",
      "Key: obj_trajs_mask, Val: torch.Size([5, 55, 11])\n",
      "Key: track_index_to_predict, Val: torch.Size([5])\n",
      "Key: obj_trajs_pos, Val: torch.Size([5, 55, 11, 3])\n",
      "Key: obj_trajs_last_pos, Val: torch.Size([5, 55, 3])\n",
      "Key: obj_types, Val: (55,)\n",
      "Key: obj_ids, Val: (55,)\n",
      "Key: center_objects_world, Val: torch.Size([5, 10])\n",
      "Key: center_objects_id, Val: (5,)\n",
      "Key: center_objects_type, Val: (5,)\n",
      "Key: obj_trajs_future_state, Val: torch.Size([5, 55, 80, 4])\n",
      "Key: obj_trajs_future_mask, Val: torch.Size([5, 55, 80])\n",
      "Key: center_gt_trajs, Val: torch.Size([5, 80, 4])\n",
      "Key: center_gt_trajs_mask, Val: torch.Size([5, 80])\n",
      "Key: center_gt_final_valid_idx, Val: torch.Size([5])\n",
      "Key: center_gt_trajs_src, Val: torch.Size([5, 91, 10])\n",
      "Key: map_polylines, Val: torch.Size([5, 768, 20, 9])\n",
      "Key: map_polylines_mask, Val: torch.Size([5, 768, 20])\n",
      "Key: map_polylines_center, Val: torch.Size([5, 768, 3])\n",
      "Key: static_map_polylines, Val: torch.Size([5, 4000, 20, 7])\n",
      "Key: static_map_polylines_mask, Val: torch.Size([5, 4000, 20])\n"
     ]
    }
   ],
   "source": [
    "model._print_batch(batch)"
   ]
  },
  {
   "cell_type": "code",
   "execution_count": 165,
   "id": "accf61af",
   "metadata": {},
   "outputs": [],
   "source": [
    "scores = model(batch)\n"
   ]
  },
  {
   "cell_type": "code",
   "execution_count": 166,
   "id": "093d2761",
   "metadata": {},
   "outputs": [
    {
     "data": {
      "text/plain": [
       "tensor([[[0.1650, 0.1676, 0.1594, 0.1689, 0.1698, 0.1693],\n",
       "         [0.1648, 0.1694, 0.1579, 0.1702, 0.1691, 0.1687],\n",
       "         [0.1640, 0.1673, 0.1589, 0.1692, 0.1700, 0.1706],\n",
       "         [0.1638, 0.1678, 0.1586, 0.1688, 0.1694, 0.1717],\n",
       "         [0.1635, 0.1684, 0.1570, 0.1694, 0.1706, 0.1711],\n",
       "         [0.1645, 0.1671, 0.1587, 0.1687, 0.1713, 0.1697],\n",
       "         [0.1650, 0.1676, 0.1585, 0.1679, 0.1703, 0.1706],\n",
       "         [0.1635, 0.1691, 0.1580, 0.1687, 0.1708, 0.1700],\n",
       "         [0.1640, 0.1682, 0.1573, 0.1704, 0.1692, 0.1709],\n",
       "         [0.1648, 0.1666, 0.1586, 0.1697, 0.1706, 0.1696],\n",
       "         [0.1634, 0.1690, 0.1571, 0.1697, 0.1704, 0.1703]],\n",
       "\n",
       "        [[0.1631, 0.1693, 0.1592, 0.1698, 0.1697, 0.1688],\n",
       "         [0.1641, 0.1681, 0.1592, 0.1691, 0.1709, 0.1685],\n",
       "         [0.1639, 0.1679, 0.1598, 0.1696, 0.1691, 0.1697],\n",
       "         [0.1640, 0.1680, 0.1591, 0.1700, 0.1699, 0.1689],\n",
       "         [0.1648, 0.1671, 0.1603, 0.1698, 0.1694, 0.1686],\n",
       "         [0.1639, 0.1677, 0.1586, 0.1694, 0.1704, 0.1699],\n",
       "         [0.1640, 0.1681, 0.1588, 0.1683, 0.1716, 0.1693],\n",
       "         [0.1639, 0.1676, 0.1578, 0.1695, 0.1705, 0.1707],\n",
       "         [0.1642, 0.1681, 0.1591, 0.1683, 0.1693, 0.1711],\n",
       "         [0.1640, 0.1672, 0.1590, 0.1686, 0.1702, 0.1710],\n",
       "         [0.1639, 0.1668, 0.1591, 0.1699, 0.1702, 0.1701]],\n",
       "\n",
       "        [[0.1639, 0.1693, 0.1586, 0.1704, 0.1703, 0.1674],\n",
       "         [0.1642, 0.1673, 0.1602, 0.1693, 0.1697, 0.1693],\n",
       "         [0.1622, 0.1686, 0.1599, 0.1696, 0.1690, 0.1707],\n",
       "         [0.1649, 0.1678, 0.1575, 0.1682, 0.1720, 0.1696],\n",
       "         [0.1644, 0.1669, 0.1605, 0.1695, 0.1680, 0.1707],\n",
       "         [0.1643, 0.1679, 0.1580, 0.1693, 0.1703, 0.1702],\n",
       "         [0.1644, 0.1668, 0.1596, 0.1691, 0.1707, 0.1694],\n",
       "         [0.1650, 0.1659, 0.1581, 0.1696, 0.1699, 0.1715],\n",
       "         [0.1641, 0.1670, 0.1589, 0.1691, 0.1702, 0.1707],\n",
       "         [0.1645, 0.1666, 0.1590, 0.1691, 0.1705, 0.1703],\n",
       "         [0.1642, 0.1677, 0.1587, 0.1684, 0.1707, 0.1703]],\n",
       "\n",
       "        [[0.1646, 0.1694, 0.1579, 0.1698, 0.1701, 0.1682],\n",
       "         [0.1639, 0.1700, 0.1585, 0.1703, 0.1702, 0.1671],\n",
       "         [0.1626, 0.1705, 0.1588, 0.1693, 0.1715, 0.1672],\n",
       "         [0.1620, 0.1685, 0.1585, 0.1702, 0.1711, 0.1697],\n",
       "         [0.1622, 0.1681, 0.1589, 0.1715, 0.1709, 0.1683],\n",
       "         [0.1631, 0.1695, 0.1589, 0.1701, 0.1704, 0.1680],\n",
       "         [0.1631, 0.1682, 0.1591, 0.1711, 0.1702, 0.1683],\n",
       "         [0.1631, 0.1681, 0.1589, 0.1696, 0.1709, 0.1693],\n",
       "         [0.1629, 0.1683, 0.1583, 0.1699, 0.1707, 0.1698],\n",
       "         [0.1633, 0.1682, 0.1594, 0.1692, 0.1708, 0.1691],\n",
       "         [0.1634, 0.1684, 0.1594, 0.1692, 0.1707, 0.1690]],\n",
       "\n",
       "        [[0.1642, 0.1687, 0.1587, 0.1706, 0.1700, 0.1678],\n",
       "         [0.1641, 0.1694, 0.1579, 0.1689, 0.1705, 0.1693],\n",
       "         [0.1631, 0.1683, 0.1581, 0.1703, 0.1703, 0.1699],\n",
       "         [0.1633, 0.1685, 0.1583, 0.1699, 0.1704, 0.1696],\n",
       "         [0.1639, 0.1673, 0.1593, 0.1691, 0.1695, 0.1710],\n",
       "         [0.1646, 0.1681, 0.1586, 0.1685, 0.1704, 0.1698],\n",
       "         [0.1641, 0.1676, 0.1588, 0.1686, 0.1712, 0.1697],\n",
       "         [0.1653, 0.1674, 0.1589, 0.1686, 0.1702, 0.1696],\n",
       "         [0.1623, 0.1688, 0.1584, 0.1691, 0.1697, 0.1718],\n",
       "         [0.1656, 0.1668, 0.1595, 0.1679, 0.1707, 0.1695],\n",
       "         [0.1637, 0.1678, 0.1596, 0.1689, 0.1693, 0.1707]]], device='cuda:0',\n",
       "       grad_fn=<SoftmaxBackward0>)"
      ]
     },
     "execution_count": 166,
     "metadata": {},
     "output_type": "execute_result"
    }
   ],
   "source": [
    "scores"
   ]
  }
 ],
 "metadata": {
  "kernelspec": {
   "display_name": "lstm",
   "language": "python",
   "name": "python3"
  },
  "language_info": {
   "codemirror_mode": {
    "name": "ipython",
    "version": 3
   },
   "file_extension": ".py",
   "mimetype": "text/x-python",
   "name": "python",
   "nbconvert_exporter": "python",
   "pygments_lexer": "ipython3",
   "version": "3.8.20"
  }
 },
 "nbformat": 4,
 "nbformat_minor": 5
}
