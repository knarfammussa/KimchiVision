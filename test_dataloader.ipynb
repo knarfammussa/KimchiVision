{
 "cells": [
  {
   "cell_type": "code",
   "execution_count": 1,
   "id": "3e358f1b",
   "metadata": {},
   "outputs": [],
   "source": [
    "from mtr.datasets import build_dataloader"
   ]
  },
  {
   "cell_type": "code",
   "execution_count": 2,
   "id": "77ff0ba0",
   "metadata": {},
   "outputs": [],
   "source": [
    "from mtr.config import cfg, cfg_from_yaml_file\n",
    "from mtr.utils import common_utils\n",
    "import torch"
   ]
  },
  {
   "cell_type": "code",
   "execution_count": 3,
   "id": "96c19d98",
   "metadata": {},
   "outputs": [
    {
     "data": {
      "text/plain": [
       "{'ROOT_DIR': PosixPath('/code/jjiang23/csc587/KimchiVision'),\n",
       " 'LOCAL_RANK': 0,\n",
       " 'DATA_CONFIG': {'DATASET': 'WaymoDataset',\n",
       "  'OBJECT_TYPE': ['TYPE_VEHICLE', 'TYPE_PEDESTRIAN', 'TYPE_CYCLIST'],\n",
       "  'DATA_ROOT': '/files/waymo/code/MTR/data/waymo',\n",
       "  'SPLIT_DIR': {'train': 'processed_scenarios_training',\n",
       "   'test': 'processed_scenarios_validation'},\n",
       "  'INFO_FILE': {'train': 'processed_scenarios_training_infos.pkl',\n",
       "   'test': 'processed_scenarios_val_infos.pkl'},\n",
       "  'SAMPLE_INTERVAL': {'train': 1, 'test': 1},\n",
       "  'INFO_FILTER_DICT': {'filter_info_by_object_type': ['TYPE_VEHICLE',\n",
       "    'TYPE_PEDESTRIAN',\n",
       "    'TYPE_CYCLIST']},\n",
       "  'POINT_SAMPLED_INTERVAL': 1,\n",
       "  'NUM_POINTS_EACH_POLYLINE': 20,\n",
       "  'VECTOR_BREAK_DIST_THRESH': 1.0,\n",
       "  'NUM_OF_SRC_POLYLINES': 768,\n",
       "  'CENTER_OFFSET_OF_MAP': [30.0, 0]},\n",
       " 'MODEL': {'CONTEXT_ENCODER': {'NAME': 'MTREncoder',\n",
       "   'NUM_OF_ATTN_NEIGHBORS': 16,\n",
       "   'NUM_INPUT_ATTR_AGENT': 29,\n",
       "   'NUM_INPUT_ATTR_MAP': 9,\n",
       "   'NUM_CHANNEL_IN_MLP_AGENT': 256,\n",
       "   'NUM_CHANNEL_IN_MLP_MAP': 64,\n",
       "   'NUM_LAYER_IN_MLP_AGENT': 3,\n",
       "   'NUM_LAYER_IN_MLP_MAP': 5,\n",
       "   'NUM_LAYER_IN_PRE_MLP_MAP': 3,\n",
       "   'D_MODEL': 256,\n",
       "   'NUM_ATTN_LAYERS': 6,\n",
       "   'NUM_ATTN_HEAD': 8,\n",
       "   'DROPOUT_OF_ATTN': 0.1,\n",
       "   'USE_LOCAL_ATTN': True},\n",
       "  'MOTION_DECODER': {'NAME': 'MTRDecoder',\n",
       "   'OBJECT_TYPE': ['TYPE_VEHICLE', 'TYPE_PEDESTRIAN', 'TYPE_CYCLIST'],\n",
       "   'CENTER_OFFSET_OF_MAP': [30.0, 0],\n",
       "   'NUM_FUTURE_FRAMES': 80,\n",
       "   'NUM_MOTION_MODES': 6,\n",
       "   'INTENTION_POINTS_FILE': 'data/waymo/cluster_64_center_dict.pkl',\n",
       "   'D_MODEL': 512,\n",
       "   'NUM_DECODER_LAYERS': 6,\n",
       "   'NUM_ATTN_HEAD': 8,\n",
       "   'MAP_D_MODEL': 256,\n",
       "   'DROPOUT_OF_ATTN': 0.1,\n",
       "   'NUM_BASE_MAP_POLYLINES': 256,\n",
       "   'NUM_WAYPOINT_MAP_POLYLINES': 128,\n",
       "   'LOSS_WEIGHTS': {'cls': 1.0, 'reg': 1.0, 'vel': 0.5},\n",
       "   'NMS_DIST_THRESH': 2.5}},\n",
       " 'OPTIMIZATION': {'BATCH_SIZE_PER_GPU': 10,\n",
       "  'NUM_EPOCHS': 30,\n",
       "  'OPTIMIZER': 'AdamW',\n",
       "  'LR': 0.0001,\n",
       "  'WEIGHT_DECAY': 0.01,\n",
       "  'SCHEDULER': 'lambdaLR',\n",
       "  'DECAY_STEP_LIST': [22, 24, 26, 28],\n",
       "  'LR_DECAY': 0.5,\n",
       "  'LR_CLIP': 1e-06,\n",
       "  'GRAD_NORM_CLIP': 1000.0}}"
      ]
     },
     "execution_count": 3,
     "metadata": {},
     "output_type": "execute_result"
    }
   ],
   "source": [
    "cfg_from_yaml_file(\"/code/jjiang23/csc587/KimchiVision/cfg/kimchiConfig.yaml\", cfg)"
   ]
  },
  {
   "cell_type": "code",
   "execution_count": 4,
   "id": "a339d7b9",
   "metadata": {},
   "outputs": [],
   "source": [
    "logger = common_utils.create_logger(\"/files/waymo/log.txt\", rank=0)\n"
   ]
  },
  {
   "cell_type": "code",
   "execution_count": 5,
   "id": "d3dcf7a3",
   "metadata": {},
   "outputs": [],
   "source": [
    "from easydict import EasyDict as edict\n",
    "args = edict({\n",
    "    \"batch_size\": 2,\n",
    "    \"workers\": 4,\n",
    "    \"merge_all_iters_to_one_epoch\": False,\n",
    "    \"epochs\": 10,\n",
    "    \"add_worker_init_fn\": False,\n",
    "})"
   ]
  },
  {
   "cell_type": "code",
   "execution_count": 6,
   "id": "ba4343d2",
   "metadata": {},
   "outputs": [
    {
     "name": "stderr",
     "output_type": "stream",
     "text": [
      "2025-06-05 19:19:06,535   INFO  Start to load infos from /files/waymo/code/MTR/data/waymo/processed_scenarios_training_infos.pkl\n",
      "2025-06-05 19:19:12,252   INFO  Total scenes before filters: 243401\n",
      "2025-06-05 19:19:18,649   INFO  Total scenes after filter_info_by_object_type: 243401\n",
      "2025-06-05 19:19:18,677   INFO  Total scenes after filters: 243401\n"
     ]
    }
   ],
   "source": [
    "train_set, train_loader, train_sampler = build_dataloader(\n",
    "    dataset_cfg=cfg.DATA_CONFIG,\n",
    "    batch_size=args.batch_size,\n",
    "    dist=False, workers=args.workers,\n",
    "    logger=logger,\n",
    "    training=True,\n",
    "    merge_all_iters_to_one_epoch=args.merge_all_iters_to_one_epoch,\n",
    "    total_epochs=args.epochs,\n",
    "    add_worker_init_fn=args.add_worker_init_fn,\n",
    ")"
   ]
  },
  {
   "cell_type": "code",
   "execution_count": 7,
   "id": "46f08642",
   "metadata": {},
   "outputs": [],
   "source": [
    "sample = next(iter(train_loader))"
   ]
  },
  {
   "cell_type": "code",
   "execution_count": 8,
   "id": "f3e4a559",
   "metadata": {},
   "outputs": [
    {
     "data": {
      "text/plain": [
       "dict_keys(['batch_size', 'input_dict', 'batch_sample_count'])"
      ]
     },
     "execution_count": 8,
     "metadata": {},
     "output_type": "execute_result"
    }
   ],
   "source": [
    "sample.keys()"
   ]
  },
  {
   "cell_type": "code",
   "execution_count": 9,
   "id": "b471f47f",
   "metadata": {},
   "outputs": [],
   "source": [
    "input_dict = sample[\"input_dict\"]"
   ]
  },
  {
   "cell_type": "code",
   "execution_count": null,
   "id": "207fdc08",
   "metadata": {},
   "outputs": [
    {
     "ename": "KeyError",
     "evalue": "'obj_trajs_full'",
     "output_type": "error",
     "traceback": [
      "\u001b[31m---------------------------------------------------------------------------\u001b[39m",
      "\u001b[31mKeyError\u001b[39m                                  Traceback (most recent call last)",
      "\u001b[36mCell\u001b[39m\u001b[36m \u001b[39m\u001b[32mIn[10]\u001b[39m\u001b[32m, line 2\u001b[39m\n\u001b[32m      1\u001b[39m \u001b[38;5;66;03m# (num_obj, timesteps, attributes) [x, y, z, dir_x, dir_y, dir_z, global_type, pre_x, pre_y]\u001b[39;00m\n\u001b[32m----> \u001b[39m\u001b[32m2\u001b[39m \u001b[43minput_dict\u001b[49m\u001b[43m[\u001b[49m\u001b[33;43m'\u001b[39;49m\u001b[33;43mobj_trajs_full\u001b[39;49m\u001b[33;43m'\u001b[39;49m\u001b[43m]\u001b[49m.shape\n",
      "\u001b[31mKeyError\u001b[39m: 'obj_trajs_full'"
     ]
    }
   ],
   "source": [
    "# (num_obj, timesteps, attributes) [x, y, z, dir_x, dir_y, dir_z, global_type, pre_x, pre_y]\n",
    "# input_dict['obj_trajs_full'].shape"
   ]
  },
  {
   "cell_type": "code",
   "execution_count": 11,
   "id": "e848c535",
   "metadata": {},
   "outputs": [
    {
     "data": {
      "text/plain": [
       "dict_keys(['scenario_id', 'obj_trajs', 'obj_trajs_mask', 'track_index_to_predict', 'obj_trajs_pos', 'obj_trajs_last_pos', 'obj_types', 'obj_ids', 'center_objects_world', 'center_objects_id', 'center_objects_type', 'obj_trajs_future_state', 'obj_trajs_future_mask', 'center_gt_trajs', 'center_gt_trajs_mask', 'center_gt_final_valid_idx', 'center_gt_trajs_src', 'map_polylines', 'map_polylines_center'])"
      ]
     },
     "execution_count": 11,
     "metadata": {},
     "output_type": "execute_result"
    }
   ],
   "source": [
    "sample[\"input_dict\"].keys()"
   ]
  },
  {
   "cell_type": "code",
   "execution_count": 12,
   "id": "062d79ac",
   "metadata": {},
   "outputs": [
    {
     "data": {
      "text/plain": [
       "torch.Size([8, 92, 11])"
      ]
     },
     "execution_count": 12,
     "metadata": {},
     "output_type": "execute_result"
    }
   ],
   "source": [
    "input_dict[\"obj_trajs_mask\"].shape"
   ]
  },
  {
   "cell_type": "code",
   "execution_count": 14,
   "id": "da1351df",
   "metadata": {},
   "outputs": [
    {
     "data": {
      "text/plain": [
       "tensor([True, True, True, True, True, True, True, True, True, True, True])"
      ]
     },
     "execution_count": 14,
     "metadata": {},
     "output_type": "execute_result"
    }
   ],
   "source": [
    "input_dict[\"obj_trajs_mask\"][0][0]"
   ]
  },
  {
   "cell_type": "code",
   "execution_count": 13,
   "id": "49897367",
   "metadata": {},
   "outputs": [
    {
     "data": {
      "text/plain": [
       "torch.Size([8, 92, 11, 29])"
      ]
     },
     "execution_count": 13,
     "metadata": {},
     "output_type": "execute_result"
    }
   ],
   "source": [
    "input_dict[\"obj_trajs\"].shape"
   ]
  },
  {
   "cell_type": "code",
   "execution_count": 13,
   "id": "d271b25d",
   "metadata": {},
   "outputs": [
    {
     "data": {
      "text/plain": [
       "torch.Size([8, 768, 20, 9])"
      ]
     },
     "execution_count": 13,
     "metadata": {},
     "output_type": "execute_result"
    }
   ],
   "source": [
    "# (num_center_objects, num_topk_polylines, num_points_each_polyline, 9): [x, y, z, dir_x, dir_y, dir_z, global_type, pre_x, pre_y]\n",
    "sample[\"input_dict\"]['map_polylines'].shape"
   ]
  },
  {
   "cell_type": "code",
   "execution_count": 24,
   "id": "cc72f67b",
   "metadata": {},
   "outputs": [
    {
     "data": {
      "text/plain": [
       "torch.Size([8, 768, 3])"
      ]
     },
     "execution_count": 24,
     "metadata": {},
     "output_type": "execute_result"
    }
   ],
   "source": [
    "input_dict[\"map_polylines_center\"].shape"
   ]
  },
  {
   "cell_type": "code",
   "execution_count": 23,
   "id": "4fda36f0",
   "metadata": {},
   "outputs": [
    {
     "data": {
      "text/plain": [
       "tensor([99,  4, 46, 40, 28,  3,  6, 69])"
      ]
     },
     "execution_count": 23,
     "metadata": {},
     "output_type": "execute_result"
    }
   ],
   "source": [
    "input_dict['track_index_to_predict']"
   ]
  },
  {
   "cell_type": "code",
   "execution_count": 14,
   "id": "46ad10ef",
   "metadata": {},
   "outputs": [
    {
     "data": {
      "text/plain": [
       "1"
      ]
     },
     "execution_count": 14,
     "metadata": {},
     "output_type": "execute_result"
    }
   ],
   "source": [
    "sample['batch_size']"
   ]
  },
  {
   "cell_type": "code",
   "execution_count": 22,
   "id": "cda988b2",
   "metadata": {},
   "outputs": [
    {
     "data": {
      "text/plain": [
       "array(['29a0bc9c441e35d8', '29a0bc9c441e35d8', '4ea07205c8472eb5',\n",
       "       '4ea07205c8472eb5', '4ea07205c8472eb5', '4ea07205c8472eb5',\n",
       "       '4ea07205c8472eb5'], dtype='<U16')"
      ]
     },
     "execution_count": 22,
     "metadata": {},
     "output_type": "execute_result"
    }
   ],
   "source": [
    "sample[\"input_dict\"][\"scenario_id\"]"
   ]
  },
  {
   "cell_type": "code",
   "execution_count": 16,
   "id": "2834af6a",
   "metadata": {},
   "outputs": [
    {
     "data": {
      "text/plain": [
       "torch.Size([3, 10])"
      ]
     },
     "execution_count": 16,
     "metadata": {},
     "output_type": "execute_result"
    }
   ],
   "source": [
    "sample[\"input_dict\"][\"center_objects_world\"].shape"
   ]
  },
  {
   "cell_type": "code",
   "execution_count": 27,
   "id": "66655f0e",
   "metadata": {},
   "outputs": [
    {
     "data": {
      "text/plain": [
       "torch.Size([7, 68, 11, 29])"
      ]
     },
     "execution_count": 27,
     "metadata": {},
     "output_type": "execute_result"
    }
   ],
   "source": [
    "#(num_center_objects, num_objects, num_timestamps, num_attrs)\n",
    "sample[\"input_dict\"][\"obj_trajs\"].shape"
   ]
  },
  {
   "cell_type": "code",
   "execution_count": 21,
   "id": "0974ee56",
   "metadata": {},
   "outputs": [],
   "source": [
    "obj_trajs = sample[\"input_dict\"][\"obj_trajs\"]"
   ]
  },
  {
   "cell_type": "code",
   "execution_count": null,
   "id": "25027062",
   "metadata": {},
   "outputs": [
    {
     "data": {
      "text/plain": [
       "torch.Size([3, 80, 4])"
      ]
     },
     "execution_count": 26,
     "metadata": {},
     "output_type": "execute_result"
    }
   ],
   "source": [
    "#(num_center_objects, num_future_timestamps, 4): [x, y, vx, vy] ground truth trajectories\n",
    "sample[\"input_dict\"]['center_gt_trajs'].shape"
   ]
  },
  {
   "cell_type": "code",
   "execution_count": 27,
   "id": "b467cb55",
   "metadata": {},
   "outputs": [
    {
     "data": {
      "text/plain": [
       "torch.Size([3, 91, 10])"
      ]
     },
     "execution_count": 27,
     "metadata": {},
     "output_type": "execute_result"
    }
   ],
   "source": [
    "sample[\"input_dict\"]['center_gt_trajs_src'].shape"
   ]
  },
  {
   "cell_type": "code",
   "execution_count": 30,
   "id": "08d3e376",
   "metadata": {},
   "outputs": [
    {
     "data": {
      "text/plain": [
       "tensor([[-2.6953e+01, -6.1536e+00, -4.0184e-02,  4.9420e+00,  2.2433e+00,\n",
       "          1.8850e+00,  1.0000e+00,  0.0000e+00,  0.0000e+00,  0.0000e+00,\n",
       "          0.0000e+00,  1.0000e+00,  0.0000e+00,  0.0000e+00,  0.0000e+00,\n",
       "          0.0000e+00,  0.0000e+00,  0.0000e+00,  0.0000e+00,  0.0000e+00,\n",
       "          0.0000e+00,  0.0000e+00,  0.0000e+00,  2.5558e-02,  9.9967e-01,\n",
       "          6.0192e+00,  1.5370e-01, -2.8333e-01, -1.0392e+00],\n",
       "        [-2.6354e+01, -6.1486e+00, -4.4090e-02,  4.9374e+00,  2.2427e+00,\n",
       "          1.8797e+00,  1.0000e+00,  0.0000e+00,  0.0000e+00,  0.0000e+00,\n",
       "          0.0000e+00,  0.0000e+00,  1.0000e+00,  0.0000e+00,  0.0000e+00,\n",
       "          0.0000e+00,  0.0000e+00,  0.0000e+00,  0.0000e+00,  0.0000e+00,\n",
       "          0.0000e+00,  0.0000e+00,  1.0003e-01,  2.1916e-02,  9.9976e-01,\n",
       "          5.9909e+00,  4.9778e-02, -2.8333e-01, -1.0392e+00],\n",
       "        [-2.5744e+01, -6.1284e+00, -4.0466e-02,  4.9259e+00,  2.2430e+00,\n",
       "          1.8701e+00,  1.0000e+00,  0.0000e+00,  0.0000e+00,  0.0000e+00,\n",
       "          0.0000e+00,  0.0000e+00,  0.0000e+00,  1.0000e+00,  0.0000e+00,\n",
       "          0.0000e+00,  0.0000e+00,  0.0000e+00,  0.0000e+00,  0.0000e+00,\n",
       "          0.0000e+00,  0.0000e+00,  2.0001e-01,  2.1491e-02,  9.9977e-01,\n",
       "          6.0998e+00,  2.0180e-01,  1.0894e+00,  1.5202e+00],\n",
       "        [-2.5126e+01, -6.1246e+00, -4.4685e-02,  4.9417e+00,  2.2396e+00,\n",
       "          1.8833e+00,  1.0000e+00,  0.0000e+00,  0.0000e+00,  0.0000e+00,\n",
       "          0.0000e+00,  0.0000e+00,  0.0000e+00,  0.0000e+00,  1.0000e+00,\n",
       "          0.0000e+00,  0.0000e+00,  0.0000e+00,  0.0000e+00,  0.0000e+00,\n",
       "          0.0000e+00,  0.0000e+00,  3.0003e-01,  2.2433e-02,  9.9975e-01,\n",
       "          6.1754e+00,  3.8279e-02,  7.5609e-01, -1.6352e+00],\n",
       "        [-2.4494e+01, -6.1164e+00, -4.8439e-02,  4.9407e+00,  2.2409e+00,\n",
       "          1.8817e+00,  1.0000e+00,  0.0000e+00,  0.0000e+00,  0.0000e+00,\n",
       "          0.0000e+00,  0.0000e+00,  0.0000e+00,  0.0000e+00,  0.0000e+00,\n",
       "          1.0000e+00,  0.0000e+00,  0.0000e+00,  0.0000e+00,  0.0000e+00,\n",
       "          0.0000e+00,  0.0000e+00,  4.0003e-01,  2.0502e-02,  9.9979e-01,\n",
       "          6.3199e+00,  8.2228e-02,  1.4448e+00,  4.3949e-01],\n",
       "        [-2.3855e+01, -6.1084e+00, -4.2580e-02,  4.9331e+00,  2.2422e+00,\n",
       "          1.8659e+00,  1.0000e+00,  0.0000e+00,  0.0000e+00,  0.0000e+00,\n",
       "          0.0000e+00,  0.0000e+00,  0.0000e+00,  0.0000e+00,  0.0000e+00,\n",
       "          0.0000e+00,  1.0000e+00,  0.0000e+00,  0.0000e+00,  0.0000e+00,\n",
       "          0.0000e+00,  0.0000e+00,  5.0001e-01,  1.4241e-02,  9.9990e-01,\n",
       "          6.3965e+00,  8.0376e-02,  7.6639e-01, -1.8525e-02],\n",
       "        [-2.3198e+01, -6.0997e+00, -5.1910e-02,  4.9519e+00,  2.2299e+00,\n",
       "          1.8765e+00,  1.0000e+00,  0.0000e+00,  0.0000e+00,  0.0000e+00,\n",
       "          0.0000e+00,  0.0000e+00,  0.0000e+00,  0.0000e+00,  0.0000e+00,\n",
       "          0.0000e+00,  0.0000e+00,  1.0000e+00,  0.0000e+00,  0.0000e+00,\n",
       "          0.0000e+00,  0.0000e+00,  6.0000e-01,  1.6664e-02,  9.9986e-01,\n",
       "          6.5721e+00,  8.6981e-02,  1.7558e+00,  6.6054e-02],\n",
       "        [-2.2518e+01, -6.0942e+00, -4.0794e-02,  4.9100e+00,  2.2245e+00,\n",
       "          1.8445e+00,  1.0000e+00,  0.0000e+00,  0.0000e+00,  0.0000e+00,\n",
       "          0.0000e+00,  0.0000e+00,  0.0000e+00,  0.0000e+00,  0.0000e+00,\n",
       "          0.0000e+00,  0.0000e+00,  0.0000e+00,  1.0000e+00,  0.0000e+00,\n",
       "          0.0000e+00,  0.0000e+00,  7.0000e-01,  7.1368e-03,  9.9997e-01,\n",
       "          6.7929e+00,  5.4346e-02,  2.2079e+00, -3.2635e-01],\n",
       "        [-2.1846e+01, -6.0913e+00, -5.1086e-02,  4.9482e+00,  2.2097e+00,\n",
       "          1.8789e+00,  1.0000e+00,  0.0000e+00,  0.0000e+00,  0.0000e+00,\n",
       "          0.0000e+00,  0.0000e+00,  0.0000e+00,  0.0000e+00,  0.0000e+00,\n",
       "          0.0000e+00,  0.0000e+00,  0.0000e+00,  0.0000e+00,  1.0000e+00,\n",
       "          0.0000e+00,  0.0000e+00,  8.0002e-01,  1.4330e-02,  9.9990e-01,\n",
       "          6.7262e+00,  2.9516e-02, -6.6707e-01, -2.4830e-01],\n",
       "        [-2.1160e+01, -6.0832e+00, -5.9418e-02,  4.9292e+00,  2.2197e+00,\n",
       "          1.8662e+00,  1.0000e+00,  0.0000e+00,  0.0000e+00,  0.0000e+00,\n",
       "          0.0000e+00,  0.0000e+00,  0.0000e+00,  0.0000e+00,  0.0000e+00,\n",
       "          0.0000e+00,  0.0000e+00,  0.0000e+00,  0.0000e+00,  0.0000e+00,\n",
       "          1.0000e+00,  0.0000e+00,  9.0000e-01,  9.7288e-03,  9.9995e-01,\n",
       "          6.8577e+00,  8.0700e-02,  1.3151e+00,  5.1184e-01],\n",
       "        [-2.0441e+01, -6.0789e+00, -6.1302e-02,  4.9251e+00,  2.2208e+00,\n",
       "          1.8579e+00,  1.0000e+00,  0.0000e+00,  0.0000e+00,  0.0000e+00,\n",
       "          0.0000e+00,  0.0000e+00,  0.0000e+00,  0.0000e+00,  0.0000e+00,\n",
       "          0.0000e+00,  0.0000e+00,  0.0000e+00,  0.0000e+00,  0.0000e+00,\n",
       "          0.0000e+00,  1.0000e+00,  1.0000e+00,  8.0825e-03,  9.9997e-01,\n",
       "          7.1936e+00,  4.3571e-02,  3.3594e+00, -3.7129e-01]])"
      ]
     },
     "execution_count": 30,
     "metadata": {},
     "output_type": "execute_result"
    }
   ],
   "source": [
    "obj_trajs[0][0]"
   ]
  },
  {
   "cell_type": "code",
   "execution_count": 26,
   "id": "15ca26c3",
   "metadata": {},
   "outputs": [
    {
     "data": {
      "text/plain": [
       "tensor([0.0000, 0.1000, 0.2000, 0.3000, 0.4000, 0.5000, 0.6000, 0.7000, 0.8000,\n",
       "        0.9000, 1.0000, 1.1001, 1.2001, 1.3001, 1.4001, 1.5002, 1.6002, 1.7003,\n",
       "        1.8003, 1.9003, 2.0004, 2.1004, 2.2004, 2.3004, 2.4005, 2.5004, 2.6005,\n",
       "        2.7005, 2.8005, 2.9005, 3.0005, 3.1005, 3.2005, 3.3005, 3.4005, 3.5005,\n",
       "        3.6005, 3.7005, 3.8005, 3.9005, 4.0005, 4.1005, 4.2005, 4.3005, 4.4005,\n",
       "        4.5005, 4.6006, 4.7006, 4.8006, 4.9006, 5.0006, 5.1006, 5.2006, 5.3006,\n",
       "        5.4006, 5.5006, 5.6007, 5.7007, 5.8007, 5.9007, 6.0007, 6.1007, 6.2007,\n",
       "        6.3007, 6.4007, 6.5007, 6.6006, 6.7006, 6.8005, 6.9004, 7.0003, 7.1001,\n",
       "        7.2000, 7.2998, 7.3995, 7.4993, 7.5991, 7.6988, 7.7985, 7.8983, 7.9980,\n",
       "        8.0977, 8.1974, 8.2970, 8.3966, 8.4961, 8.5957, 8.6952, 8.7947, 8.8942,\n",
       "        8.9936], dtype=torch.float64)"
      ]
     },
     "execution_count": 26,
     "metadata": {},
     "output_type": "execute_result"
    }
   ],
   "source": [
    "sample[\"input_dict\"][\"timestamps\"]"
   ]
  }
 ],
 "metadata": {
  "kernelspec": {
   "display_name": "wemo",
   "language": "python",
   "name": "python3"
  },
  "language_info": {
   "codemirror_mode": {
    "name": "ipython",
    "version": 3
   },
   "file_extension": ".py",
   "mimetype": "text/x-python",
   "name": "python",
   "nbconvert_exporter": "python",
   "pygments_lexer": "ipython3",
   "version": "3.11.11"
  }
 },
 "nbformat": 4,
 "nbformat_minor": 5
}
