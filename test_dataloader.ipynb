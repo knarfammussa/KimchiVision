{
 "cells": [
  {
   "cell_type": "code",
   "execution_count": 1,
   "id": "3e358f1b",
   "metadata": {},
   "outputs": [],
   "source": [
    "from mtr.datasets import build_dataloader"
   ]
  },
  {
   "cell_type": "code",
   "execution_count": 2,
   "id": "77ff0ba0",
   "metadata": {},
   "outputs": [],
   "source": [
    "from mtr.config import cfg, cfg_from_yaml_file\n",
    "from mtr.utils import common_utils\n",
    "import torch"
   ]
  },
  {
   "cell_type": "code",
   "execution_count": 3,
   "id": "96c19d98",
   "metadata": {},
   "outputs": [
    {
     "data": {
      "text/plain": [
       "{'ROOT_DIR': PosixPath('/code/jjiang23/csc587/KimchiVision'),\n",
       " 'LOCAL_RANK': 0,\n",
       " 'DATA_CONFIG': {'DATASET': 'WaymoDataset',\n",
       "  'OBJECT_TYPE': ['TYPE_VEHICLE', 'TYPE_PEDESTRIAN', 'TYPE_CYCLIST'],\n",
       "  'DATA_ROOT': '/files/waymo/code/MTR/data/waymo',\n",
       "  'SPLIT_DIR': {'train': 'processed_scenarios_training',\n",
       "   'test': 'processed_scenarios_validation'},\n",
       "  'INFO_FILE': {'train': 'processed_scenarios_training_infos.pkl',\n",
       "   'test': 'processed_scenarios_val_infos.pkl'},\n",
       "  'SAMPLE_INTERVAL': {'train': 1, 'test': 1},\n",
       "  'INFO_FILTER_DICT': {'filter_info_by_object_type': ['TYPE_VEHICLE',\n",
       "    'TYPE_PEDESTRIAN',\n",
       "    'TYPE_CYCLIST']},\n",
       "  'POINT_SAMPLED_INTERVAL': 1,\n",
       "  'NUM_POINTS_EACH_POLYLINE': 20,\n",
       "  'VECTOR_BREAK_DIST_THRESH': 1.0,\n",
       "  'NUM_OF_SRC_POLYLINES': 768,\n",
       "  'CENTER_OFFSET_OF_MAP': [30.0, 0]},\n",
       " 'MODEL': {'CONTEXT_ENCODER': {'NAME': 'MTREncoder',\n",
       "   'NUM_OF_ATTN_NEIGHBORS': 16,\n",
       "   'NUM_INPUT_ATTR_AGENT': 29,\n",
       "   'NUM_INPUT_ATTR_MAP': 9,\n",
       "   'NUM_CHANNEL_IN_MLP_AGENT': 256,\n",
       "   'NUM_CHANNEL_IN_MLP_MAP': 64,\n",
       "   'NUM_LAYER_IN_MLP_AGENT': 3,\n",
       "   'NUM_LAYER_IN_MLP_MAP': 5,\n",
       "   'NUM_LAYER_IN_PRE_MLP_MAP': 3,\n",
       "   'D_MODEL': 256,\n",
       "   'NUM_ATTN_LAYERS': 6,\n",
       "   'NUM_ATTN_HEAD': 8,\n",
       "   'DROPOUT_OF_ATTN': 0.1,\n",
       "   'USE_LOCAL_ATTN': True},\n",
       "  'MOTION_DECODER': {'NAME': 'MTRDecoder',\n",
       "   'OBJECT_TYPE': ['TYPE_VEHICLE', 'TYPE_PEDESTRIAN', 'TYPE_CYCLIST'],\n",
       "   'CENTER_OFFSET_OF_MAP': [30.0, 0],\n",
       "   'NUM_FUTURE_FRAMES': 80,\n",
       "   'NUM_MOTION_MODES': 6,\n",
       "   'INTENTION_POINTS_FILE': 'data/waymo/cluster_64_center_dict.pkl',\n",
       "   'D_MODEL': 512,\n",
       "   'NUM_DECODER_LAYERS': 6,\n",
       "   'NUM_ATTN_HEAD': 8,\n",
       "   'MAP_D_MODEL': 256,\n",
       "   'DROPOUT_OF_ATTN': 0.1,\n",
       "   'NUM_BASE_MAP_POLYLINES': 256,\n",
       "   'NUM_WAYPOINT_MAP_POLYLINES': 128,\n",
       "   'LOSS_WEIGHTS': {'cls': 1.0, 'reg': 1.0, 'vel': 0.5},\n",
       "   'NMS_DIST_THRESH': 2.5}},\n",
       " 'OPTIMIZATION': {'BATCH_SIZE_PER_GPU': 10,\n",
       "  'NUM_EPOCHS': 30,\n",
       "  'OPTIMIZER': 'AdamW',\n",
       "  'LR': 0.0001,\n",
       "  'WEIGHT_DECAY': 0.01,\n",
       "  'SCHEDULER': 'lambdaLR',\n",
       "  'DECAY_STEP_LIST': [22, 24, 26, 28],\n",
       "  'LR_DECAY': 0.5,\n",
       "  'LR_CLIP': 1e-06,\n",
       "  'GRAD_NORM_CLIP': 1000.0}}"
      ]
     },
     "execution_count": 3,
     "metadata": {},
     "output_type": "execute_result"
    }
   ],
   "source": [
    "cfg_from_yaml_file(\"/code/jjiang23/csc587/KimchiVision/cfg/kimchiConfig.yaml\", cfg)"
   ]
  },
  {
   "cell_type": "code",
   "execution_count": 4,
   "id": "a339d7b9",
   "metadata": {},
   "outputs": [],
   "source": [
    "logger = common_utils.create_logger(\"/files/waymo/log.txt\", rank=0)\n"
   ]
  },
  {
   "cell_type": "code",
   "execution_count": 5,
   "id": "d3dcf7a3",
   "metadata": {},
   "outputs": [],
   "source": [
    "from easydict import EasyDict as edict\n",
    "args = edict({\n",
    "    \"batch_size\": 3,\n",
    "    \"workers\": 64,\n",
    "    \"merge_all_iters_to_one_epoch\": False,\n",
    "    \"epochs\": 10,\n",
    "    \"add_worker_init_fn\": False,\n",
    "})"
   ]
  },
  {
   "cell_type": "code",
   "execution_count": 6,
   "id": "ba4343d2",
   "metadata": {},
   "outputs": [
    {
     "name": "stderr",
     "output_type": "stream",
     "text": [
      "2025-06-07 03:03:06,383   INFO  Start to load infos from /files/waymo/code/MTR/data/waymo/processed_scenarios_training_infos.pkl\n",
      "2025-06-07 03:03:11,432   INFO  Total scenes before filters: 243401\n",
      "2025-06-07 03:03:17,651   INFO  Total scenes after filter_info_by_object_type: 243401\n",
      "2025-06-07 03:03:17,678   INFO  Total scenes after filters: 243401\n"
     ]
    }
   ],
   "source": [
    "train_set, train_loader, train_sampler = build_dataloader(\n",
    "    dataset_cfg=cfg.DATA_CONFIG,\n",
    "    batch_size=args.batch_size,\n",
    "    dist=False, workers=args.workers,\n",
    "    logger=logger,\n",
    "    training=True,\n",
    "    merge_all_iters_to_one_epoch=args.merge_all_iters_to_one_epoch,\n",
    "    total_epochs=args.epochs,\n",
    "    add_worker_init_fn=args.add_worker_init_fn,\n",
    ")"
   ]
  },
  {
   "cell_type": "code",
   "execution_count": 7,
   "id": "46f08642",
   "metadata": {},
   "outputs": [],
   "source": [
    "sample = next(iter(train_loader))"
   ]
  },
  {
   "cell_type": "code",
   "execution_count": 8,
   "id": "f3e4a559",
   "metadata": {},
   "outputs": [
    {
     "data": {
      "text/plain": [
       "dict_keys(['batch_size', 'input_dict', 'batch_sample_count'])"
      ]
     },
     "execution_count": 8,
     "metadata": {},
     "output_type": "execute_result"
    }
   ],
   "source": [
    "sample.keys()"
   ]
  },
  {
   "cell_type": "code",
   "execution_count": 9,
   "id": "b471f47f",
   "metadata": {},
   "outputs": [],
   "source": [
    "input_dict = sample[\"input_dict\"]"
   ]
  },
  {
   "cell_type": "code",
   "execution_count": 10,
   "id": "e2d96431",
   "metadata": {},
   "outputs": [
    {
     "name": "stdout",
     "output_type": "stream",
     "text": [
      "scenario_id: <class 'numpy.ndarray'>\n",
      "obj_trajs: torch.Size([11, 177, 11, 29])\n",
      "obj_trajs_mask: torch.Size([11, 177, 11])\n",
      "track_index_to_predict: torch.Size([11])\n",
      "obj_trajs_pos: torch.Size([11, 177, 11, 3])\n",
      "obj_trajs_last_pos: torch.Size([11, 177, 3])\n",
      "obj_types: <class 'numpy.ndarray'>\n",
      "obj_ids: <class 'numpy.ndarray'>\n",
      "center_objects_world: torch.Size([11, 10])\n",
      "center_objects_id: <class 'numpy.ndarray'>\n",
      "center_objects_type: <class 'numpy.ndarray'>\n",
      "obj_trajs_future_state: torch.Size([11, 177, 80, 4])\n",
      "obj_trajs_future_mask: torch.Size([11, 177, 80])\n",
      "center_gt_trajs: torch.Size([11, 80, 4])\n",
      "center_gt_trajs_mask: torch.Size([11, 80])\n",
      "center_gt_final_valid_idx: torch.Size([11])\n",
      "center_gt_trajs_src: torch.Size([11, 91, 10])\n",
      "map_polylines: torch.Size([11, 768, 20, 9])\n",
      "map_polylines_mask: torch.Size([11, 768, 20])\n",
      "map_polylines_center: torch.Size([11, 768, 3])\n",
      "static_map_polylines: torch.Size([12000, 20, 7])\n",
      "static_map_polylines_mask: torch.Size([12000, 20])\n"
     ]
    }
   ],
   "source": [
    "for key in input_dict.keys():\n",
    "    if isinstance(input_dict[key], torch.Tensor):\n",
    "        print(f\"{key}: {input_dict[key].shape}\")\n",
    "    else:\n",
    "        print(f\"{key}: {type(input_dict[key])}\")"
   ]
  },
  {
   "cell_type": "code",
   "execution_count": null,
   "id": "e00d5342",
   "metadata": {},
   "outputs": [],
   "source": [
    "input_dict[\"static_map_polylines\"].shape, input_dict[\"static_map_polylines_mask\"].shape"
   ]
  },
  {
   "cell_type": "code",
   "execution_count": null,
   "id": "dfd5128c",
   "metadata": {},
   "outputs": [],
   "source": [
    "input_dict[\"static_map_polylines\"].shape, input_dict[\"static_map_polylines_mask\"].shape"
   ]
  },
  {
   "cell_type": "code",
   "execution_count": null,
   "id": "062d79ac",
   "metadata": {},
   "outputs": [],
   "source": [
    "input_dict[\"map_polylines\"].shape"
   ]
  },
  {
   "cell_type": "code",
   "execution_count": null,
   "id": "3b0ca838",
   "metadata": {},
   "outputs": [],
   "source": [
    "input_dict[\"center_objects_world\"].shape"
   ]
  },
  {
   "cell_type": "code",
   "execution_count": null,
   "id": "f2beb867",
   "metadata": {},
   "outputs": [],
   "source": [
    "input_dict[\"map_polylines_mask\"].shape"
   ]
  },
  {
   "cell_type": "code",
   "execution_count": null,
   "id": "da1351df",
   "metadata": {},
   "outputs": [],
   "source": [
    "input_dict[\"obj_trajs_mask\"][0][0]"
   ]
  },
  {
   "cell_type": "code",
   "execution_count": null,
   "id": "49897367",
   "metadata": {},
   "outputs": [],
   "source": [
    "input_dict[\"obj_trajs\"].shape"
   ]
  },
  {
   "cell_type": "code",
   "execution_count": null,
   "id": "d271b25d",
   "metadata": {},
   "outputs": [],
   "source": [
    "# (num_center_objects, num_topk_polylines, num_points_each_polyline, 9): [x, y, z, dir_x, dir_y, dir_z, global_type, pre_x, pre_y]\n",
    "sample[\"input_dict\"]['map_polylines'].shape"
   ]
  },
  {
   "cell_type": "code",
   "execution_count": null,
   "id": "cc72f67b",
   "metadata": {},
   "outputs": [],
   "source": [
    "input_dict[\"map_polylines_center\"].shape"
   ]
  },
  {
   "cell_type": "code",
   "execution_count": null,
   "id": "4fda36f0",
   "metadata": {},
   "outputs": [],
   "source": [
    "input_dict['track_index_to_predict']"
   ]
  },
  {
   "cell_type": "code",
   "execution_count": null,
   "id": "46ad10ef",
   "metadata": {},
   "outputs": [],
   "source": [
    "sample['batch_size']"
   ]
  },
  {
   "cell_type": "code",
   "execution_count": null,
   "id": "cda988b2",
   "metadata": {},
   "outputs": [],
   "source": [
    "sample[\"input_dict\"][\"scenario_id\"]"
   ]
  },
  {
   "cell_type": "code",
   "execution_count": null,
   "id": "2834af6a",
   "metadata": {},
   "outputs": [],
   "source": [
    "sample[\"input_dict\"][\"center_objects_world\"].shape"
   ]
  },
  {
   "cell_type": "code",
   "execution_count": null,
   "id": "66655f0e",
   "metadata": {},
   "outputs": [],
   "source": [
    "#(num_center_objects, num_objects, num_timestamps, num_attrs)\n",
    "sample[\"input_dict\"][\"obj_trajs\"].shape"
   ]
  },
  {
   "cell_type": "code",
   "execution_count": null,
   "id": "0974ee56",
   "metadata": {},
   "outputs": [],
   "source": [
    "obj_trajs = sample[\"input_dict\"][\"obj_trajs\"]"
   ]
  },
  {
   "cell_type": "code",
   "execution_count": null,
   "id": "25027062",
   "metadata": {},
   "outputs": [],
   "source": [
    "#(num_center_objects, num_future_timestamps, 4): [x, y, vx, vy] ground truth trajectories\n",
    "sample[\"input_dict\"]['center_gt_trajs'].shape"
   ]
  },
  {
   "cell_type": "code",
   "execution_count": null,
   "id": "b467cb55",
   "metadata": {},
   "outputs": [],
   "source": [
    "sample[\"input_dict\"]['center_gt_trajs_src'].shape"
   ]
  },
  {
   "cell_type": "code",
   "execution_count": null,
   "id": "08d3e376",
   "metadata": {},
   "outputs": [],
   "source": [
    "obj_trajs[0][0]"
   ]
  },
  {
   "cell_type": "code",
   "execution_count": null,
   "id": "15ca26c3",
   "metadata": {},
   "outputs": [],
   "source": [
    "sample[\"input_dict\"][\"timestamps\"]"
   ]
  }
 ],
 "metadata": {
  "kernelspec": {
   "display_name": "wemo",
   "language": "python",
   "name": "python3"
  },
  "language_info": {
   "codemirror_mode": {
    "name": "ipython",
    "version": 3
   },
   "file_extension": ".py",
   "mimetype": "text/x-python",
   "name": "python",
   "nbconvert_exporter": "python",
   "pygments_lexer": "ipython3",
   "version": "3.11.11"
  }
 },
 "nbformat": 4,
 "nbformat_minor": 5
}
