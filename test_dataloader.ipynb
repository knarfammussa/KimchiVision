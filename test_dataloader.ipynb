{
 "cells": [
  {
   "cell_type": "code",
   "execution_count": 1,
   "id": "3e358f1b",
   "metadata": {},
   "outputs": [],
   "source": [
    "from mtr.datasets import build_dataloader"
   ]
  },
  {
   "cell_type": "code",
   "execution_count": 2,
   "id": "77ff0ba0",
   "metadata": {},
   "outputs": [],
   "source": [
    "from mtr.config import cfg, cfg_from_yaml_file\n",
    "from mtr.utils import common_utils"
   ]
  },
  {
   "cell_type": "code",
   "execution_count": 7,
   "id": "96c19d98",
   "metadata": {},
   "outputs": [
    {
     "data": {
      "text/plain": [
       "{'ROOT_DIR': PosixPath('/code/jjiang23/csc587/KimchiVision'),\n",
       " 'LOCAL_RANK': 0,\n",
       " 'DATA_CONFIG': {'DATASET': 'WaymoDataset',\n",
       "  'OBJECT_TYPE': ['TYPE_VEHICLE', 'TYPE_PEDESTRIAN', 'TYPE_CYCLIST'],\n",
       "  'DATA_ROOT': '/files/waymo/code/MTR/data/waymo',\n",
       "  'SPLIT_DIR': {'train': 'processed_scenarios_training',\n",
       "   'test': 'processed_scenarios_validation'},\n",
       "  'INFO_FILE': {'train': 'processed_scenarios_training_infos.pkl',\n",
       "   'test': 'processed_scenarios_val_infos.pkl'},\n",
       "  'SAMPLE_INTERVAL': {'train': 1, 'test': 1},\n",
       "  'INFO_FILTER_DICT': {'filter_info_by_object_type': ['TYPE_VEHICLE',\n",
       "    'TYPE_PEDESTRIAN',\n",
       "    'TYPE_CYCLIST']},\n",
       "  'POINT_SAMPLED_INTERVAL': 1,\n",
       "  'NUM_POINTS_EACH_POLYLINE': 20,\n",
       "  'VECTOR_BREAK_DIST_THRESH': 1.0,\n",
       "  'NUM_OF_SRC_POLYLINES': 768,\n",
       "  'CENTER_OFFSET_OF_MAP': [30.0, 0]},\n",
       " 'MODEL': {'CONTEXT_ENCODER': {'NAME': 'MTREncoder',\n",
       "   'NUM_OF_ATTN_NEIGHBORS': 16,\n",
       "   'NUM_INPUT_ATTR_AGENT': 29,\n",
       "   'NUM_INPUT_ATTR_MAP': 9,\n",
       "   'NUM_CHANNEL_IN_MLP_AGENT': 256,\n",
       "   'NUM_CHANNEL_IN_MLP_MAP': 64,\n",
       "   'NUM_LAYER_IN_MLP_AGENT': 3,\n",
       "   'NUM_LAYER_IN_MLP_MAP': 5,\n",
       "   'NUM_LAYER_IN_PRE_MLP_MAP': 3,\n",
       "   'D_MODEL': 256,\n",
       "   'NUM_ATTN_LAYERS': 6,\n",
       "   'NUM_ATTN_HEAD': 8,\n",
       "   'DROPOUT_OF_ATTN': 0.1,\n",
       "   'USE_LOCAL_ATTN': True},\n",
       "  'MOTION_DECODER': {'NAME': 'MTRDecoder',\n",
       "   'OBJECT_TYPE': ['TYPE_VEHICLE', 'TYPE_PEDESTRIAN', 'TYPE_CYCLIST'],\n",
       "   'CENTER_OFFSET_OF_MAP': [30.0, 0],\n",
       "   'NUM_FUTURE_FRAMES': 80,\n",
       "   'NUM_MOTION_MODES': 6,\n",
       "   'INTENTION_POINTS_FILE': 'data/waymo/cluster_64_center_dict.pkl',\n",
       "   'D_MODEL': 512,\n",
       "   'NUM_DECODER_LAYERS': 6,\n",
       "   'NUM_ATTN_HEAD': 8,\n",
       "   'MAP_D_MODEL': 256,\n",
       "   'DROPOUT_OF_ATTN': 0.1,\n",
       "   'NUM_BASE_MAP_POLYLINES': 256,\n",
       "   'NUM_WAYPOINT_MAP_POLYLINES': 128,\n",
       "   'LOSS_WEIGHTS': {'cls': 1.0, 'reg': 1.0, 'vel': 0.5},\n",
       "   'NMS_DIST_THRESH': 2.5}},\n",
       " 'OPTIMIZATION': {'BATCH_SIZE_PER_GPU': 10,\n",
       "  'NUM_EPOCHS': 30,\n",
       "  'OPTIMIZER': 'AdamW',\n",
       "  'LR': 0.0001,\n",
       "  'WEIGHT_DECAY': 0.01,\n",
       "  'SCHEDULER': 'lambdaLR',\n",
       "  'DECAY_STEP_LIST': [22, 24, 26, 28],\n",
       "  'LR_DECAY': 0.5,\n",
       "  'LR_CLIP': 1e-06,\n",
       "  'GRAD_NORM_CLIP': 1000.0}}"
      ]
     },
     "execution_count": 7,
     "metadata": {},
     "output_type": "execute_result"
    }
   ],
   "source": [
    "cfg_from_yaml_file(\"/code/jjiang23/csc587/KimchiVision/cfg/kimchiConfig.yaml\", cfg)"
   ]
  },
  {
   "cell_type": "code",
   "execution_count": 8,
   "id": "a339d7b9",
   "metadata": {},
   "outputs": [],
   "source": [
    "logger = common_utils.create_logger(\"/files/waymo/log.txt\", rank=0)\n"
   ]
  },
  {
   "cell_type": "code",
   "execution_count": 9,
   "id": "d3dcf7a3",
   "metadata": {},
   "outputs": [],
   "source": [
    "from easydict import EasyDict as edict\n",
    "args = edict({\n",
    "    \"batch_size\": 32,\n",
    "    \"workers\": 4,\n",
    "    \"merge_all_iters_to_one_epoch\": False,\n",
    "    \"epochs\": 10,\n",
    "    \"add_worker_init_fn\": False,\n",
    "})"
   ]
  },
  {
   "cell_type": "code",
   "execution_count": 10,
   "id": "ba4343d2",
   "metadata": {},
   "outputs": [
    {
     "name": "stderr",
     "output_type": "stream",
     "text": [
      "2025-06-02 23:12:08,631   INFO  Start to load infos from /files/waymo/code/MTR/data/waymo/processed_scenarios_training_infos.pkl\n",
      "2025-06-02 23:12:08,631   INFO  Start to load infos from /files/waymo/code/MTR/data/waymo/processed_scenarios_training_infos.pkl\n",
      "2025-06-02 23:12:08,849   INFO  Total scenes before filters: 7780\n",
      "2025-06-02 23:12:08,849   INFO  Total scenes before filters: 7780\n",
      "2025-06-02 23:12:09,057   INFO  Total scenes after filter_info_by_object_type: 7780\n",
      "2025-06-02 23:12:09,057   INFO  Total scenes after filter_info_by_object_type: 7780\n",
      "2025-06-02 23:12:09,059   INFO  Total scenes after filters: 7780\n",
      "2025-06-02 23:12:09,059   INFO  Total scenes after filters: 7780\n"
     ]
    }
   ],
   "source": [
    "train_set, train_loader, train_sampler = build_dataloader(\n",
    "    dataset_cfg=cfg.DATA_CONFIG,\n",
    "    batch_size=args.batch_size,\n",
    "    dist=False, workers=args.workers,\n",
    "    logger=logger,\n",
    "    training=True,\n",
    "    merge_all_iters_to_one_epoch=args.merge_all_iters_to_one_epoch,\n",
    "    total_epochs=args.epochs,\n",
    "    add_worker_init_fn=args.add_worker_init_fn,\n",
    ")"
   ]
  },
  {
   "cell_type": "code",
   "execution_count": 11,
   "id": "46f08642",
   "metadata": {},
   "outputs": [],
   "source": [
    "sample = next(iter(train_loader))"
   ]
  },
  {
   "cell_type": "code",
   "execution_count": 12,
   "id": "f3e4a559",
   "metadata": {},
   "outputs": [
    {
     "data": {
      "text/plain": [
       "dict_keys(['batch_size', 'input_dict', 'batch_sample_count'])"
      ]
     },
     "execution_count": 12,
     "metadata": {},
     "output_type": "execute_result"
    }
   ],
   "source": [
    "sample.keys()"
   ]
  },
  {
   "cell_type": "code",
   "execution_count": 13,
   "id": "e848c535",
   "metadata": {},
   "outputs": [
    {
     "data": {
      "text/plain": [
       "dict_keys(['scenario_id', 'obj_trajs', 'obj_trajs_mask', 'track_index_to_predict', 'obj_trajs_pos', 'obj_trajs_last_pos', 'obj_types', 'obj_ids', 'center_objects_world', 'center_objects_id', 'center_objects_type', 'obj_trajs_future_state', 'obj_trajs_future_mask', 'center_gt_trajs', 'center_gt_trajs_mask', 'center_gt_final_valid_idx', 'center_gt_trajs_src', 'map_polylines', 'map_polylines_mask', 'map_polylines_center'])"
      ]
     },
     "execution_count": 13,
     "metadata": {},
     "output_type": "execute_result"
    }
   ],
   "source": [
    "sample[\"input_dict\"].keys()"
   ]
  }
 ],
 "metadata": {
  "kernelspec": {
   "display_name": "wemo",
   "language": "python",
   "name": "python3"
  },
  "language_info": {
   "codemirror_mode": {
    "name": "ipython",
    "version": 3
   },
   "file_extension": ".py",
   "mimetype": "text/x-python",
   "name": "python",
   "nbconvert_exporter": "python",
   "pygments_lexer": "ipython3",
   "version": "3.11.11"
  }
 },
 "nbformat": 4,
 "nbformat_minor": 5
}
